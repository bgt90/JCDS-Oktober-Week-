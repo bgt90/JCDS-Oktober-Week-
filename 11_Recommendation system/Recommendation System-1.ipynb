{
 "cells": [
  {
   "cell_type": "markdown",
   "metadata": {},
   "source": [
    "# Content Based Recommendation System: Similarity Measure- Cosine SImilarity  \n",
    "\\begin{align}\n",
    "Cosine(x,y)= \\frac{\\sum_{i = 1}^{n}x_i y_i\n",
    "}{\\sqrt{\\sum_{i=1}^{n}x_i^2} \\sqrt{\\sum_{i=1}^{n}y_i^2}}\n",
    "\\end{align}"
   ]
  },
  {
   "cell_type": "markdown",
   "metadata": {
    "ExecuteTime": {
     "end_time": "2022-01-28T02:18:20.852569Z",
     "start_time": "2022-01-28T02:18:20.838593Z"
    }
   },
   "source": [
    "## Ilustrasi"
   ]
  },
  {
   "cell_type": "code",
   "execution_count": 1,
   "metadata": {
    "ExecuteTime": {
     "end_time": "2022-01-31T02:15:14.441621Z",
     "start_time": "2022-01-31T02:15:13.370948Z"
    }
   },
   "outputs": [],
   "source": [
    "import numpy as np\n",
    "import pandas as pd"
   ]
  },
  {
   "cell_type": "code",
   "execution_count": 2,
   "metadata": {
    "ExecuteTime": {
     "end_time": "2022-01-31T02:15:14.487497Z",
     "start_time": "2022-01-31T02:15:14.444612Z"
    }
   },
   "outputs": [
    {
     "data": {
      "text/html": [
       "<div>\n",
       "<style scoped>\n",
       "    .dataframe tbody tr th:only-of-type {\n",
       "        vertical-align: middle;\n",
       "    }\n",
       "\n",
       "    .dataframe tbody tr th {\n",
       "        vertical-align: top;\n",
       "    }\n",
       "\n",
       "    .dataframe thead th {\n",
       "        text-align: right;\n",
       "    }\n",
       "</style>\n",
       "<table border=\"1\" class=\"dataframe\">\n",
       "  <thead>\n",
       "    <tr style=\"text-align: right;\">\n",
       "      <th></th>\n",
       "      <th>Movie</th>\n",
       "      <th>Comedy</th>\n",
       "      <th>Action</th>\n",
       "      <th>Scifi</th>\n",
       "      <th>Romantic</th>\n",
       "    </tr>\n",
       "  </thead>\n",
       "  <tbody>\n",
       "    <tr>\n",
       "      <th>0</th>\n",
       "      <td>Terminator</td>\n",
       "      <td>0</td>\n",
       "      <td>1</td>\n",
       "      <td>1</td>\n",
       "      <td>0</td>\n",
       "    </tr>\n",
       "    <tr>\n",
       "      <th>1</th>\n",
       "      <td>Ant Man</td>\n",
       "      <td>1</td>\n",
       "      <td>1</td>\n",
       "      <td>1</td>\n",
       "      <td>1</td>\n",
       "    </tr>\n",
       "    <tr>\n",
       "      <th>2</th>\n",
       "      <td>GOTG Vol 2</td>\n",
       "      <td>1</td>\n",
       "      <td>1</td>\n",
       "      <td>1</td>\n",
       "      <td>0</td>\n",
       "    </tr>\n",
       "    <tr>\n",
       "      <th>3</th>\n",
       "      <td>3 Idiots</td>\n",
       "      <td>1</td>\n",
       "      <td>0</td>\n",
       "      <td>0</td>\n",
       "      <td>0</td>\n",
       "    </tr>\n",
       "  </tbody>\n",
       "</table>\n",
       "</div>"
      ],
      "text/plain": [
       "        Movie  Comedy  Action  Scifi  Romantic\n",
       "0  Terminator       0       1      1         0\n",
       "1     Ant Man       1       1      1         1\n",
       "2  GOTG Vol 2       1       1      1         0\n",
       "3    3 Idiots       1       0      0         0"
      ]
     },
     "execution_count": 2,
     "metadata": {},
     "output_type": "execute_result"
    }
   ],
   "source": [
    "contoh= pd.DataFrame({\n",
    "    'Movie':['Terminator', 'Ant Man', 'GOTG Vol 2', '3 Idiots'],\n",
    "    'Comedy':[0,1,1,1],\n",
    "    'Action':[1,1,1,0],\n",
    "    'Scifi':[1,1,1,0],\n",
    "    'Romantic':[0,1,0,0]\n",
    "})\n",
    "contoh"
   ]
  },
  {
   "cell_type": "code",
   "execution_count": 3,
   "metadata": {
    "ExecuteTime": {
     "end_time": "2022-01-31T02:15:14.502457Z",
     "start_time": "2022-01-31T02:15:14.491486Z"
    }
   },
   "outputs": [
    {
     "data": {
      "text/plain": [
       "0.8660254037844387"
      ]
     },
     "execution_count": 3,
     "metadata": {},
     "output_type": "execute_result"
    }
   ],
   "source": [
    "# ant man vs gotg vol 2\n",
    "(1*1 + 1*1 + 1*1 + 1*0)/((4**(1/2))*(3**(1/2)))"
   ]
  },
  {
   "cell_type": "code",
   "execution_count": 4,
   "metadata": {
    "ExecuteTime": {
     "end_time": "2022-01-31T02:15:15.734948Z",
     "start_time": "2022-01-31T02:15:14.505449Z"
    }
   },
   "outputs": [],
   "source": [
    "from sklearn.metrics.pairwise import cosine_similarity"
   ]
  },
  {
   "cell_type": "code",
   "execution_count": 5,
   "metadata": {
    "ExecuteTime": {
     "end_time": "2022-01-31T02:15:15.767868Z",
     "start_time": "2022-01-31T02:15:15.736944Z"
    }
   },
   "outputs": [
    {
     "data": {
      "text/plain": [
       "array([[0.8660254]])"
      ]
     },
     "execution_count": 5,
     "metadata": {},
     "output_type": "execute_result"
    }
   ],
   "source": [
    "cosine_similarity(contoh[contoh['Movie']=='Ant Man'].drop(columns='Movie'),\n",
    "contoh[contoh['Movie']=='GOTG Vol 2'].drop(columns='Movie')) # cosine similarity antara ant man dan gotg vol 2"
   ]
  },
  {
   "cell_type": "code",
   "execution_count": 6,
   "metadata": {
    "ExecuteTime": {
     "end_time": "2022-01-31T02:15:15.781825Z",
     "start_time": "2022-01-31T02:15:15.769855Z"
    }
   },
   "outputs": [],
   "source": [
    "score=cosine_similarity(contoh[contoh['Movie']=='Ant Man'].drop(columns='Movie'), contoh.drop(columns='Movie')) \n",
    "# nilai cosin similarity antara antman dengan film2 lainnya"
   ]
  },
  {
   "cell_type": "code",
   "execution_count": 7,
   "metadata": {
    "ExecuteTime": {
     "end_time": "2022-01-31T02:15:15.797781Z",
     "start_time": "2022-01-31T02:15:15.788811Z"
    }
   },
   "outputs": [],
   "source": [
    "contoh['score']= score.flatten()"
   ]
  },
  {
   "cell_type": "code",
   "execution_count": 8,
   "metadata": {
    "ExecuteTime": {
     "end_time": "2022-01-31T02:15:15.829695Z",
     "start_time": "2022-01-31T02:15:15.803765Z"
    }
   },
   "outputs": [
    {
     "data": {
      "text/html": [
       "<div>\n",
       "<style scoped>\n",
       "    .dataframe tbody tr th:only-of-type {\n",
       "        vertical-align: middle;\n",
       "    }\n",
       "\n",
       "    .dataframe tbody tr th {\n",
       "        vertical-align: top;\n",
       "    }\n",
       "\n",
       "    .dataframe thead th {\n",
       "        text-align: right;\n",
       "    }\n",
       "</style>\n",
       "<table border=\"1\" class=\"dataframe\">\n",
       "  <thead>\n",
       "    <tr style=\"text-align: right;\">\n",
       "      <th></th>\n",
       "      <th>Movie</th>\n",
       "      <th>score</th>\n",
       "    </tr>\n",
       "  </thead>\n",
       "  <tbody>\n",
       "    <tr>\n",
       "      <th>1</th>\n",
       "      <td>Ant Man</td>\n",
       "      <td>1.000000</td>\n",
       "    </tr>\n",
       "    <tr>\n",
       "      <th>2</th>\n",
       "      <td>GOTG Vol 2</td>\n",
       "      <td>0.866025</td>\n",
       "    </tr>\n",
       "    <tr>\n",
       "      <th>0</th>\n",
       "      <td>Terminator</td>\n",
       "      <td>0.707107</td>\n",
       "    </tr>\n",
       "    <tr>\n",
       "      <th>3</th>\n",
       "      <td>3 Idiots</td>\n",
       "      <td>0.500000</td>\n",
       "    </tr>\n",
       "  </tbody>\n",
       "</table>\n",
       "</div>"
      ],
      "text/plain": [
       "        Movie     score\n",
       "1     Ant Man  1.000000\n",
       "2  GOTG Vol 2  0.866025\n",
       "0  Terminator  0.707107\n",
       "3    3 Idiots  0.500000"
      ]
     },
     "execution_count": 8,
     "metadata": {},
     "output_type": "execute_result"
    }
   ],
   "source": [
    "contoh[['Movie','score']].sort_values('score', ascending=False) # score kemiripan dengan film antman"
   ]
  },
  {
   "cell_type": "markdown",
   "metadata": {},
   "source": [
    "Dari hasil score di atas, maka rekomendasi yang paling sesuai untuk item Ant Man adalah GOTG Vol 2, diikuti Terminator, dan terakhir adalah 3 Idiots"
   ]
  },
  {
   "cell_type": "markdown",
   "metadata": {},
   "source": [
    "## Illustrasi 2"
   ]
  },
  {
   "cell_type": "code",
   "execution_count": 9,
   "metadata": {
    "ExecuteTime": {
     "end_time": "2022-01-31T02:15:15.845653Z",
     "start_time": "2022-01-31T02:15:15.831690Z"
    }
   },
   "outputs": [
    {
     "data": {
      "text/html": [
       "<div>\n",
       "<style scoped>\n",
       "    .dataframe tbody tr th:only-of-type {\n",
       "        vertical-align: middle;\n",
       "    }\n",
       "\n",
       "    .dataframe tbody tr th {\n",
       "        vertical-align: top;\n",
       "    }\n",
       "\n",
       "    .dataframe thead th {\n",
       "        text-align: right;\n",
       "    }\n",
       "</style>\n",
       "<table border=\"1\" class=\"dataframe\">\n",
       "  <thead>\n",
       "    <tr style=\"text-align: right;\">\n",
       "      <th></th>\n",
       "      <th>Movie</th>\n",
       "      <th>Comedy</th>\n",
       "      <th>Action</th>\n",
       "      <th>Scifi</th>\n",
       "      <th>Romantic</th>\n",
       "    </tr>\n",
       "  </thead>\n",
       "  <tbody>\n",
       "    <tr>\n",
       "      <th>0</th>\n",
       "      <td>Terminator</td>\n",
       "      <td>0</td>\n",
       "      <td>5</td>\n",
       "      <td>3</td>\n",
       "      <td>0</td>\n",
       "    </tr>\n",
       "    <tr>\n",
       "      <th>1</th>\n",
       "      <td>Ant Man</td>\n",
       "      <td>4</td>\n",
       "      <td>5</td>\n",
       "      <td>5</td>\n",
       "      <td>4</td>\n",
       "    </tr>\n",
       "    <tr>\n",
       "      <th>2</th>\n",
       "      <td>GOTG Vol 2</td>\n",
       "      <td>3</td>\n",
       "      <td>5</td>\n",
       "      <td>5</td>\n",
       "      <td>0</td>\n",
       "    </tr>\n",
       "    <tr>\n",
       "      <th>3</th>\n",
       "      <td>3 Idiots</td>\n",
       "      <td>4</td>\n",
       "      <td>0</td>\n",
       "      <td>0</td>\n",
       "      <td>0</td>\n",
       "    </tr>\n",
       "  </tbody>\n",
       "</table>\n",
       "</div>"
      ],
      "text/plain": [
       "        Movie  Comedy  Action  Scifi  Romantic\n",
       "0  Terminator       0       5      3         0\n",
       "1     Ant Man       4       5      5         4\n",
       "2  GOTG Vol 2       3       5      5         0\n",
       "3    3 Idiots       4       0      0         0"
      ]
     },
     "execution_count": 9,
     "metadata": {},
     "output_type": "execute_result"
    }
   ],
   "source": [
    "contoh= pd.DataFrame({\n",
    "    'Movie':['Terminator', 'Ant Man', 'GOTG Vol 2', '3 Idiots'],\n",
    "    'Comedy':[0,4,3,4],\n",
    "    'Action':[5,5,5,0],\n",
    "    'Scifi':[3,5,5,0],\n",
    "    'Romantic':[0,4,0,0]\n",
    "})\n",
    "contoh"
   ]
  },
  {
   "cell_type": "code",
   "execution_count": 10,
   "metadata": {
    "ExecuteTime": {
     "end_time": "2022-01-31T02:15:15.860613Z",
     "start_time": "2022-01-31T02:15:15.846650Z"
    }
   },
   "outputs": [
    {
     "data": {
      "text/plain": [
       "0.891371527293353"
      ]
     },
     "execution_count": 10,
     "metadata": {},
     "output_type": "execute_result"
    }
   ],
   "source": [
    "# antman vs gotg vol 2\n",
    "(4*3+5*5+5*5+4*0)/(((4**2+5**2+5**2+4**2)**(1/2))*((3**2+5**2+5**2)**(1/2)))"
   ]
  },
  {
   "cell_type": "code",
   "execution_count": 11,
   "metadata": {
    "ExecuteTime": {
     "end_time": "2022-01-31T02:15:15.875572Z",
     "start_time": "2022-01-31T02:15:15.862607Z"
    }
   },
   "outputs": [
    {
     "data": {
      "text/plain": [
       "array([[0.89137153]])"
      ]
     },
     "execution_count": 11,
     "metadata": {},
     "output_type": "execute_result"
    }
   ],
   "source": [
    "cosine_similarity(contoh[contoh['Movie']=='Ant Man'].drop(columns='Movie'), contoh[contoh['Movie']=='GOTG Vol 2'].drop(columns='Movie'))"
   ]
  },
  {
   "cell_type": "code",
   "execution_count": 12,
   "metadata": {
    "ExecuteTime": {
     "end_time": "2022-01-31T02:15:15.891529Z",
     "start_time": "2022-01-31T02:15:15.877569Z"
    }
   },
   "outputs": [],
   "source": [
    "score=cosine_similarity(contoh[contoh['Movie']=='Ant Man'].drop(columns='Movie'), contoh.drop(columns='Movie'))"
   ]
  },
  {
   "cell_type": "code",
   "execution_count": 13,
   "metadata": {
    "ExecuteTime": {
     "end_time": "2022-01-31T02:15:15.906494Z",
     "start_time": "2022-01-31T02:15:15.893525Z"
    }
   },
   "outputs": [],
   "source": [
    "contoh['score']=score.flatten()"
   ]
  },
  {
   "cell_type": "code",
   "execution_count": 14,
   "metadata": {
    "ExecuteTime": {
     "end_time": "2022-01-31T02:15:15.921450Z",
     "start_time": "2022-01-31T02:15:15.909483Z"
    }
   },
   "outputs": [
    {
     "data": {
      "text/html": [
       "<div>\n",
       "<style scoped>\n",
       "    .dataframe tbody tr th:only-of-type {\n",
       "        vertical-align: middle;\n",
       "    }\n",
       "\n",
       "    .dataframe tbody tr th {\n",
       "        vertical-align: top;\n",
       "    }\n",
       "\n",
       "    .dataframe thead th {\n",
       "        text-align: right;\n",
       "    }\n",
       "</style>\n",
       "<table border=\"1\" class=\"dataframe\">\n",
       "  <thead>\n",
       "    <tr style=\"text-align: right;\">\n",
       "      <th></th>\n",
       "      <th>Movie</th>\n",
       "      <th>score</th>\n",
       "    </tr>\n",
       "  </thead>\n",
       "  <tbody>\n",
       "    <tr>\n",
       "      <th>1</th>\n",
       "      <td>Ant Man</td>\n",
       "      <td>1.000000</td>\n",
       "    </tr>\n",
       "    <tr>\n",
       "      <th>2</th>\n",
       "      <td>GOTG Vol 2</td>\n",
       "      <td>0.891372</td>\n",
       "    </tr>\n",
       "    <tr>\n",
       "      <th>0</th>\n",
       "      <td>Terminator</td>\n",
       "      <td>0.757554</td>\n",
       "    </tr>\n",
       "    <tr>\n",
       "      <th>3</th>\n",
       "      <td>3 Idiots</td>\n",
       "      <td>0.441726</td>\n",
       "    </tr>\n",
       "  </tbody>\n",
       "</table>\n",
       "</div>"
      ],
      "text/plain": [
       "        Movie     score\n",
       "1     Ant Man  1.000000\n",
       "2  GOTG Vol 2  0.891372\n",
       "0  Terminator  0.757554\n",
       "3    3 Idiots  0.441726"
      ]
     },
     "execution_count": 14,
     "metadata": {},
     "output_type": "execute_result"
    }
   ],
   "source": [
    "contoh[['Movie','score']].sort_values('score', ascending=False)"
   ]
  },
  {
   "cell_type": "markdown",
   "metadata": {},
   "source": [
    "Dari hasil score di atas, maka rekomendasi yang paling sesuai untuk item Ant Man adalah GOTG Vol 2, diikuti Terminator, dan terakhir adalah 3 Idiots"
   ]
  },
  {
   "cell_type": "markdown",
   "metadata": {},
   "source": [
    "## Let's try with Anime Dataset"
   ]
  },
  {
   "cell_type": "code",
   "execution_count": 15,
   "metadata": {
    "ExecuteTime": {
     "end_time": "2022-01-31T02:15:15.969323Z",
     "start_time": "2022-01-31T02:15:15.922448Z"
    }
   },
   "outputs": [
    {
     "data": {
      "text/html": [
       "<div>\n",
       "<style scoped>\n",
       "    .dataframe tbody tr th:only-of-type {\n",
       "        vertical-align: middle;\n",
       "    }\n",
       "\n",
       "    .dataframe tbody tr th {\n",
       "        vertical-align: top;\n",
       "    }\n",
       "\n",
       "    .dataframe thead th {\n",
       "        text-align: right;\n",
       "    }\n",
       "</style>\n",
       "<table border=\"1\" class=\"dataframe\">\n",
       "  <thead>\n",
       "    <tr style=\"text-align: right;\">\n",
       "      <th></th>\n",
       "      <th>anime_id</th>\n",
       "      <th>name</th>\n",
       "      <th>genre</th>\n",
       "    </tr>\n",
       "  </thead>\n",
       "  <tbody>\n",
       "    <tr>\n",
       "      <th>0</th>\n",
       "      <td>32281</td>\n",
       "      <td>Kimi no Na wa.</td>\n",
       "      <td>Drama, Romance, School, Supernatural</td>\n",
       "    </tr>\n",
       "    <tr>\n",
       "      <th>1</th>\n",
       "      <td>5114</td>\n",
       "      <td>Fullmetal Alchemist: Brotherhood</td>\n",
       "      <td>Action, Adventure, Drama, Fantasy, Magic, Mili...</td>\n",
       "    </tr>\n",
       "    <tr>\n",
       "      <th>2</th>\n",
       "      <td>28977</td>\n",
       "      <td>Gintama°</td>\n",
       "      <td>Action, Comedy, Historical, Parody, Samurai, S...</td>\n",
       "    </tr>\n",
       "    <tr>\n",
       "      <th>3</th>\n",
       "      <td>9253</td>\n",
       "      <td>Steins;Gate</td>\n",
       "      <td>Sci-Fi, Thriller</td>\n",
       "    </tr>\n",
       "    <tr>\n",
       "      <th>4</th>\n",
       "      <td>9969</td>\n",
       "      <td>Gintama&amp;#039;</td>\n",
       "      <td>Action, Comedy, Historical, Parody, Samurai, S...</td>\n",
       "    </tr>\n",
       "    <tr>\n",
       "      <th>...</th>\n",
       "      <td>...</td>\n",
       "      <td>...</td>\n",
       "      <td>...</td>\n",
       "    </tr>\n",
       "    <tr>\n",
       "      <th>12289</th>\n",
       "      <td>9316</td>\n",
       "      <td>Toushindai My Lover: Minami tai Mecha-Minami</td>\n",
       "      <td>Hentai</td>\n",
       "    </tr>\n",
       "    <tr>\n",
       "      <th>12290</th>\n",
       "      <td>5543</td>\n",
       "      <td>Under World</td>\n",
       "      <td>Hentai</td>\n",
       "    </tr>\n",
       "    <tr>\n",
       "      <th>12291</th>\n",
       "      <td>5621</td>\n",
       "      <td>Violence Gekiga David no Hoshi</td>\n",
       "      <td>Hentai</td>\n",
       "    </tr>\n",
       "    <tr>\n",
       "      <th>12292</th>\n",
       "      <td>6133</td>\n",
       "      <td>Violence Gekiga Shin David no Hoshi: Inma Dens...</td>\n",
       "      <td>Hentai</td>\n",
       "    </tr>\n",
       "    <tr>\n",
       "      <th>12293</th>\n",
       "      <td>26081</td>\n",
       "      <td>Yasuji no Pornorama: Yacchimae!!</td>\n",
       "      <td>Hentai</td>\n",
       "    </tr>\n",
       "  </tbody>\n",
       "</table>\n",
       "<p>12294 rows × 3 columns</p>\n",
       "</div>"
      ],
      "text/plain": [
       "       anime_id                                               name  \\\n",
       "0         32281                                     Kimi no Na wa.   \n",
       "1          5114                   Fullmetal Alchemist: Brotherhood   \n",
       "2         28977                                           Gintama°   \n",
       "3          9253                                        Steins;Gate   \n",
       "4          9969                                      Gintama&#039;   \n",
       "...         ...                                                ...   \n",
       "12289      9316       Toushindai My Lover: Minami tai Mecha-Minami   \n",
       "12290      5543                                        Under World   \n",
       "12291      5621                     Violence Gekiga David no Hoshi   \n",
       "12292      6133  Violence Gekiga Shin David no Hoshi: Inma Dens...   \n",
       "12293     26081                   Yasuji no Pornorama: Yacchimae!!   \n",
       "\n",
       "                                                   genre  \n",
       "0                   Drama, Romance, School, Supernatural  \n",
       "1      Action, Adventure, Drama, Fantasy, Magic, Mili...  \n",
       "2      Action, Comedy, Historical, Parody, Samurai, S...  \n",
       "3                                       Sci-Fi, Thriller  \n",
       "4      Action, Comedy, Historical, Parody, Samurai, S...  \n",
       "...                                                  ...  \n",
       "12289                                             Hentai  \n",
       "12290                                             Hentai  \n",
       "12291                                             Hentai  \n",
       "12292                                             Hentai  \n",
       "12293                                             Hentai  \n",
       "\n",
       "[12294 rows x 3 columns]"
      ]
     },
     "execution_count": 15,
     "metadata": {},
     "output_type": "execute_result"
    }
   ],
   "source": [
    "df_anime= pd.read_csv('anime.csv',usecols=['anime_id','name','genre'])\n",
    "df_anime"
   ]
  },
  {
   "cell_type": "code",
   "execution_count": 16,
   "metadata": {
    "ExecuteTime": {
     "end_time": "2022-01-31T02:15:15.984283Z",
     "start_time": "2022-01-31T02:15:15.971318Z"
    }
   },
   "outputs": [
    {
     "data": {
      "text/plain": [
       "anime_id     0\n",
       "name         0\n",
       "genre       62\n",
       "dtype: int64"
      ]
     },
     "execution_count": 16,
     "metadata": {},
     "output_type": "execute_result"
    }
   ],
   "source": [
    "df_anime.isna().sum()"
   ]
  },
  {
   "cell_type": "code",
   "execution_count": 17,
   "metadata": {
    "ExecuteTime": {
     "end_time": "2022-01-31T02:15:15.999245Z",
     "start_time": "2022-01-31T02:15:15.985280Z"
    }
   },
   "outputs": [],
   "source": [
    "df_anime=df_anime.dropna()"
   ]
  },
  {
   "cell_type": "code",
   "execution_count": 18,
   "metadata": {
    "ExecuteTime": {
     "end_time": "2022-01-31T02:15:16.015200Z",
     "start_time": "2022-01-31T02:15:16.003231Z"
    }
   },
   "outputs": [],
   "source": [
    "df_anime=df_anime.reset_index(drop=True)"
   ]
  },
  {
   "cell_type": "code",
   "execution_count": 19,
   "metadata": {
    "ExecuteTime": {
     "end_time": "2022-01-31T02:15:16.031157Z",
     "start_time": "2022-01-31T02:15:16.017193Z"
    }
   },
   "outputs": [
    {
     "data": {
      "text/plain": [
       "Hentai                                     823\n",
       "Comedy                                     523\n",
       "Music                                      301\n",
       "Kids                                       199\n",
       "Comedy, Slice of Life                      179\n",
       "                                          ... \n",
       "Adventure, Demons, Military, Mystery         1\n",
       "Mystery, Seinen                              1\n",
       "Vampire                                      1\n",
       "Action, Comedy, Hentai, Mecha                1\n",
       "Comedy, Drama, Mystery, Police, Shounen      1\n",
       "Name: genre, Length: 3264, dtype: int64"
      ]
     },
     "execution_count": 19,
     "metadata": {},
     "output_type": "execute_result"
    }
   ],
   "source": [
    "df_anime['genre'].value_counts()\n",
    "# untuk membuat item profil, kita perlu membuat setiap genre menjadi 1 kolom tersendiri"
   ]
  },
  {
   "cell_type": "code",
   "execution_count": 20,
   "metadata": {
    "ExecuteTime": {
     "end_time": "2022-01-31T02:15:16.062075Z",
     "start_time": "2022-01-31T02:15:16.035147Z"
    }
   },
   "outputs": [],
   "source": [
    "from sklearn.feature_extraction.text import CountVectorizer"
   ]
  },
  {
   "cell_type": "code",
   "execution_count": 21,
   "metadata": {
    "ExecuteTime": {
     "end_time": "2022-01-31T02:15:16.139867Z",
     "start_time": "2022-01-31T02:15:16.065070Z"
    }
   },
   "outputs": [
    {
     "name": "stdout",
     "output_type": "stream",
     "text": [
      "['action' 'adventure' 'cars' 'comedy' 'dementia' 'demons' 'drama' 'ecchi'\n",
      " 'fantasy' 'game' 'harem' 'hentai' 'historical' 'horror' 'josei' 'kids'\n",
      " 'magic' 'martial arts' 'mecha' 'military' 'music' 'mystery' 'parody'\n",
      " 'police' 'psychological' 'romance' 'samurai' 'school' 'sci-fi' 'seinen'\n",
      " 'shoujo' 'shoujo ai' 'shounen' 'shounen ai' 'slice of life' 'space'\n",
      " 'sports' 'super power' 'supernatural' 'thriller' 'vampire' 'yaoi' 'yuri']\n",
      "43\n"
     ]
    }
   ],
   "source": [
    "cvr= CountVectorizer(tokenizer= lambda x:x.split(', ')) # pakai koma untuk memecak text genre\n",
    "genre_a=cvr.fit_transform(df_anime['genre'])\n",
    "print(cvr.get_feature_names_out())\n",
    "print(len(cvr.get_feature_names_out()))"
   ]
  },
  {
   "cell_type": "code",
   "execution_count": 22,
   "metadata": {
    "ExecuteTime": {
     "end_time": "2022-01-31T02:15:16.155823Z",
     "start_time": "2022-01-31T02:15:16.145867Z"
    }
   },
   "outputs": [
    {
     "data": {
      "text/plain": [
       "array([[0, 0, 0, ..., 0, 0, 0],\n",
       "       [1, 1, 0, ..., 0, 0, 0],\n",
       "       [1, 0, 0, ..., 0, 0, 0],\n",
       "       ...,\n",
       "       [0, 0, 0, ..., 0, 0, 0],\n",
       "       [0, 0, 0, ..., 0, 0, 0],\n",
       "       [0, 0, 0, ..., 0, 0, 0]], dtype=int64)"
      ]
     },
     "execution_count": 22,
     "metadata": {},
     "output_type": "execute_result"
    }
   ],
   "source": [
    "genre_a.toarray()"
   ]
  },
  {
   "cell_type": "code",
   "execution_count": 23,
   "metadata": {
    "ExecuteTime": {
     "end_time": "2022-01-31T02:15:16.170783Z",
     "start_time": "2022-01-31T02:15:16.158814Z"
    }
   },
   "outputs": [
    {
     "data": {
      "text/plain": [
       "(12232, 43)"
      ]
     },
     "execution_count": 23,
     "metadata": {},
     "output_type": "execute_result"
    }
   ],
   "source": [
    "genre=pd.DataFrame(genre_a.toarray(), columns=cvr.get_feature_names_out())\n",
    "genre.shape"
   ]
  },
  {
   "cell_type": "code",
   "execution_count": 24,
   "metadata": {
    "ExecuteTime": {
     "end_time": "2022-01-31T02:15:16.216667Z",
     "start_time": "2022-01-31T02:15:16.172778Z"
    }
   },
   "outputs": [
    {
     "data": {
      "text/html": [
       "<div>\n",
       "<style scoped>\n",
       "    .dataframe tbody tr th:only-of-type {\n",
       "        vertical-align: middle;\n",
       "    }\n",
       "\n",
       "    .dataframe tbody tr th {\n",
       "        vertical-align: top;\n",
       "    }\n",
       "\n",
       "    .dataframe thead th {\n",
       "        text-align: right;\n",
       "    }\n",
       "</style>\n",
       "<table border=\"1\" class=\"dataframe\">\n",
       "  <thead>\n",
       "    <tr style=\"text-align: right;\">\n",
       "      <th></th>\n",
       "      <th>anime_id</th>\n",
       "      <th>action</th>\n",
       "      <th>adventure</th>\n",
       "      <th>cars</th>\n",
       "      <th>comedy</th>\n",
       "      <th>dementia</th>\n",
       "      <th>demons</th>\n",
       "      <th>drama</th>\n",
       "      <th>ecchi</th>\n",
       "      <th>fantasy</th>\n",
       "      <th>...</th>\n",
       "      <th>shounen ai</th>\n",
       "      <th>slice of life</th>\n",
       "      <th>space</th>\n",
       "      <th>sports</th>\n",
       "      <th>super power</th>\n",
       "      <th>supernatural</th>\n",
       "      <th>thriller</th>\n",
       "      <th>vampire</th>\n",
       "      <th>yaoi</th>\n",
       "      <th>yuri</th>\n",
       "    </tr>\n",
       "  </thead>\n",
       "  <tbody>\n",
       "    <tr>\n",
       "      <th>0</th>\n",
       "      <td>32281</td>\n",
       "      <td>0</td>\n",
       "      <td>0</td>\n",
       "      <td>0</td>\n",
       "      <td>0</td>\n",
       "      <td>0</td>\n",
       "      <td>0</td>\n",
       "      <td>1</td>\n",
       "      <td>0</td>\n",
       "      <td>0</td>\n",
       "      <td>...</td>\n",
       "      <td>0</td>\n",
       "      <td>0</td>\n",
       "      <td>0</td>\n",
       "      <td>0</td>\n",
       "      <td>0</td>\n",
       "      <td>1</td>\n",
       "      <td>0</td>\n",
       "      <td>0</td>\n",
       "      <td>0</td>\n",
       "      <td>0</td>\n",
       "    </tr>\n",
       "    <tr>\n",
       "      <th>1</th>\n",
       "      <td>5114</td>\n",
       "      <td>1</td>\n",
       "      <td>1</td>\n",
       "      <td>0</td>\n",
       "      <td>0</td>\n",
       "      <td>0</td>\n",
       "      <td>0</td>\n",
       "      <td>1</td>\n",
       "      <td>0</td>\n",
       "      <td>1</td>\n",
       "      <td>...</td>\n",
       "      <td>0</td>\n",
       "      <td>0</td>\n",
       "      <td>0</td>\n",
       "      <td>0</td>\n",
       "      <td>0</td>\n",
       "      <td>0</td>\n",
       "      <td>0</td>\n",
       "      <td>0</td>\n",
       "      <td>0</td>\n",
       "      <td>0</td>\n",
       "    </tr>\n",
       "    <tr>\n",
       "      <th>2</th>\n",
       "      <td>28977</td>\n",
       "      <td>1</td>\n",
       "      <td>0</td>\n",
       "      <td>0</td>\n",
       "      <td>1</td>\n",
       "      <td>0</td>\n",
       "      <td>0</td>\n",
       "      <td>0</td>\n",
       "      <td>0</td>\n",
       "      <td>0</td>\n",
       "      <td>...</td>\n",
       "      <td>0</td>\n",
       "      <td>0</td>\n",
       "      <td>0</td>\n",
       "      <td>0</td>\n",
       "      <td>0</td>\n",
       "      <td>0</td>\n",
       "      <td>0</td>\n",
       "      <td>0</td>\n",
       "      <td>0</td>\n",
       "      <td>0</td>\n",
       "    </tr>\n",
       "    <tr>\n",
       "      <th>3</th>\n",
       "      <td>9253</td>\n",
       "      <td>0</td>\n",
       "      <td>0</td>\n",
       "      <td>0</td>\n",
       "      <td>0</td>\n",
       "      <td>0</td>\n",
       "      <td>0</td>\n",
       "      <td>0</td>\n",
       "      <td>0</td>\n",
       "      <td>0</td>\n",
       "      <td>...</td>\n",
       "      <td>0</td>\n",
       "      <td>0</td>\n",
       "      <td>0</td>\n",
       "      <td>0</td>\n",
       "      <td>0</td>\n",
       "      <td>0</td>\n",
       "      <td>1</td>\n",
       "      <td>0</td>\n",
       "      <td>0</td>\n",
       "      <td>0</td>\n",
       "    </tr>\n",
       "    <tr>\n",
       "      <th>4</th>\n",
       "      <td>9969</td>\n",
       "      <td>1</td>\n",
       "      <td>0</td>\n",
       "      <td>0</td>\n",
       "      <td>1</td>\n",
       "      <td>0</td>\n",
       "      <td>0</td>\n",
       "      <td>0</td>\n",
       "      <td>0</td>\n",
       "      <td>0</td>\n",
       "      <td>...</td>\n",
       "      <td>0</td>\n",
       "      <td>0</td>\n",
       "      <td>0</td>\n",
       "      <td>0</td>\n",
       "      <td>0</td>\n",
       "      <td>0</td>\n",
       "      <td>0</td>\n",
       "      <td>0</td>\n",
       "      <td>0</td>\n",
       "      <td>0</td>\n",
       "    </tr>\n",
       "    <tr>\n",
       "      <th>...</th>\n",
       "      <td>...</td>\n",
       "      <td>...</td>\n",
       "      <td>...</td>\n",
       "      <td>...</td>\n",
       "      <td>...</td>\n",
       "      <td>...</td>\n",
       "      <td>...</td>\n",
       "      <td>...</td>\n",
       "      <td>...</td>\n",
       "      <td>...</td>\n",
       "      <td>...</td>\n",
       "      <td>...</td>\n",
       "      <td>...</td>\n",
       "      <td>...</td>\n",
       "      <td>...</td>\n",
       "      <td>...</td>\n",
       "      <td>...</td>\n",
       "      <td>...</td>\n",
       "      <td>...</td>\n",
       "      <td>...</td>\n",
       "      <td>...</td>\n",
       "    </tr>\n",
       "    <tr>\n",
       "      <th>12227</th>\n",
       "      <td>9316</td>\n",
       "      <td>0</td>\n",
       "      <td>0</td>\n",
       "      <td>0</td>\n",
       "      <td>0</td>\n",
       "      <td>0</td>\n",
       "      <td>0</td>\n",
       "      <td>0</td>\n",
       "      <td>0</td>\n",
       "      <td>0</td>\n",
       "      <td>...</td>\n",
       "      <td>0</td>\n",
       "      <td>0</td>\n",
       "      <td>0</td>\n",
       "      <td>0</td>\n",
       "      <td>0</td>\n",
       "      <td>0</td>\n",
       "      <td>0</td>\n",
       "      <td>0</td>\n",
       "      <td>0</td>\n",
       "      <td>0</td>\n",
       "    </tr>\n",
       "    <tr>\n",
       "      <th>12228</th>\n",
       "      <td>5543</td>\n",
       "      <td>0</td>\n",
       "      <td>0</td>\n",
       "      <td>0</td>\n",
       "      <td>0</td>\n",
       "      <td>0</td>\n",
       "      <td>0</td>\n",
       "      <td>0</td>\n",
       "      <td>0</td>\n",
       "      <td>0</td>\n",
       "      <td>...</td>\n",
       "      <td>0</td>\n",
       "      <td>0</td>\n",
       "      <td>0</td>\n",
       "      <td>0</td>\n",
       "      <td>0</td>\n",
       "      <td>0</td>\n",
       "      <td>0</td>\n",
       "      <td>0</td>\n",
       "      <td>0</td>\n",
       "      <td>0</td>\n",
       "    </tr>\n",
       "    <tr>\n",
       "      <th>12229</th>\n",
       "      <td>5621</td>\n",
       "      <td>0</td>\n",
       "      <td>0</td>\n",
       "      <td>0</td>\n",
       "      <td>0</td>\n",
       "      <td>0</td>\n",
       "      <td>0</td>\n",
       "      <td>0</td>\n",
       "      <td>0</td>\n",
       "      <td>0</td>\n",
       "      <td>...</td>\n",
       "      <td>0</td>\n",
       "      <td>0</td>\n",
       "      <td>0</td>\n",
       "      <td>0</td>\n",
       "      <td>0</td>\n",
       "      <td>0</td>\n",
       "      <td>0</td>\n",
       "      <td>0</td>\n",
       "      <td>0</td>\n",
       "      <td>0</td>\n",
       "    </tr>\n",
       "    <tr>\n",
       "      <th>12230</th>\n",
       "      <td>6133</td>\n",
       "      <td>0</td>\n",
       "      <td>0</td>\n",
       "      <td>0</td>\n",
       "      <td>0</td>\n",
       "      <td>0</td>\n",
       "      <td>0</td>\n",
       "      <td>0</td>\n",
       "      <td>0</td>\n",
       "      <td>0</td>\n",
       "      <td>...</td>\n",
       "      <td>0</td>\n",
       "      <td>0</td>\n",
       "      <td>0</td>\n",
       "      <td>0</td>\n",
       "      <td>0</td>\n",
       "      <td>0</td>\n",
       "      <td>0</td>\n",
       "      <td>0</td>\n",
       "      <td>0</td>\n",
       "      <td>0</td>\n",
       "    </tr>\n",
       "    <tr>\n",
       "      <th>12231</th>\n",
       "      <td>26081</td>\n",
       "      <td>0</td>\n",
       "      <td>0</td>\n",
       "      <td>0</td>\n",
       "      <td>0</td>\n",
       "      <td>0</td>\n",
       "      <td>0</td>\n",
       "      <td>0</td>\n",
       "      <td>0</td>\n",
       "      <td>0</td>\n",
       "      <td>...</td>\n",
       "      <td>0</td>\n",
       "      <td>0</td>\n",
       "      <td>0</td>\n",
       "      <td>0</td>\n",
       "      <td>0</td>\n",
       "      <td>0</td>\n",
       "      <td>0</td>\n",
       "      <td>0</td>\n",
       "      <td>0</td>\n",
       "      <td>0</td>\n",
       "    </tr>\n",
       "  </tbody>\n",
       "</table>\n",
       "<p>12232 rows × 44 columns</p>\n",
       "</div>"
      ],
      "text/plain": [
       "       anime_id  action  adventure  cars  comedy  dementia  demons  drama  \\\n",
       "0         32281       0          0     0       0         0       0      1   \n",
       "1          5114       1          1     0       0         0       0      1   \n",
       "2         28977       1          0     0       1         0       0      0   \n",
       "3          9253       0          0     0       0         0       0      0   \n",
       "4          9969       1          0     0       1         0       0      0   \n",
       "...         ...     ...        ...   ...     ...       ...     ...    ...   \n",
       "12227      9316       0          0     0       0         0       0      0   \n",
       "12228      5543       0          0     0       0         0       0      0   \n",
       "12229      5621       0          0     0       0         0       0      0   \n",
       "12230      6133       0          0     0       0         0       0      0   \n",
       "12231     26081       0          0     0       0         0       0      0   \n",
       "\n",
       "       ecchi  fantasy  ...  shounen ai  slice of life  space  sports  \\\n",
       "0          0        0  ...           0              0      0       0   \n",
       "1          0        1  ...           0              0      0       0   \n",
       "2          0        0  ...           0              0      0       0   \n",
       "3          0        0  ...           0              0      0       0   \n",
       "4          0        0  ...           0              0      0       0   \n",
       "...      ...      ...  ...         ...            ...    ...     ...   \n",
       "12227      0        0  ...           0              0      0       0   \n",
       "12228      0        0  ...           0              0      0       0   \n",
       "12229      0        0  ...           0              0      0       0   \n",
       "12230      0        0  ...           0              0      0       0   \n",
       "12231      0        0  ...           0              0      0       0   \n",
       "\n",
       "       super power  supernatural  thriller  vampire  yaoi  yuri  \n",
       "0                0             1         0        0     0     0  \n",
       "1                0             0         0        0     0     0  \n",
       "2                0             0         0        0     0     0  \n",
       "3                0             0         1        0     0     0  \n",
       "4                0             0         0        0     0     0  \n",
       "...            ...           ...       ...      ...   ...   ...  \n",
       "12227            0             0         0        0     0     0  \n",
       "12228            0             0         0        0     0     0  \n",
       "12229            0             0         0        0     0     0  \n",
       "12230            0             0         0        0     0     0  \n",
       "12231            0             0         0        0     0     0  \n",
       "\n",
       "[12232 rows x 44 columns]"
      ]
     },
     "execution_count": 24,
     "metadata": {},
     "output_type": "execute_result"
    }
   ],
   "source": [
    "genre=pd.concat([df_anime['anime_id'],genre],axis=1)\n",
    "genre # profil dari item (anime)"
   ]
  },
  {
   "cell_type": "markdown",
   "metadata": {},
   "source": [
    "### Anime Recommender"
   ]
  },
  {
   "cell_type": "code",
   "execution_count": 25,
   "metadata": {
    "ExecuteTime": {
     "end_time": "2022-01-31T02:15:16.231631Z",
     "start_time": "2022-01-31T02:15:16.219660Z"
    }
   },
   "outputs": [
    {
     "data": {
      "text/html": [
       "<div>\n",
       "<style scoped>\n",
       "    .dataframe tbody tr th:only-of-type {\n",
       "        vertical-align: middle;\n",
       "    }\n",
       "\n",
       "    .dataframe tbody tr th {\n",
       "        vertical-align: top;\n",
       "    }\n",
       "\n",
       "    .dataframe thead th {\n",
       "        text-align: right;\n",
       "    }\n",
       "</style>\n",
       "<table border=\"1\" class=\"dataframe\">\n",
       "  <thead>\n",
       "    <tr style=\"text-align: right;\">\n",
       "      <th></th>\n",
       "      <th>anime_id</th>\n",
       "      <th>name</th>\n",
       "      <th>genre</th>\n",
       "    </tr>\n",
       "  </thead>\n",
       "  <tbody>\n",
       "    <tr>\n",
       "      <th>841</th>\n",
       "      <td>20</td>\n",
       "      <td>Naruto</td>\n",
       "      <td>Action, Comedy, Martial Arts, Shounen, Super P...</td>\n",
       "    </tr>\n",
       "  </tbody>\n",
       "</table>\n",
       "</div>"
      ],
      "text/plain": [
       "     anime_id    name                                              genre\n",
       "841        20  Naruto  Action, Comedy, Martial Arts, Shounen, Super P..."
      ]
     },
     "execution_count": 25,
     "metadata": {},
     "output_type": "execute_result"
    }
   ],
   "source": [
    "# misal user menyukai anime Naruto\n",
    "df_anime[df_anime['name']=='Naruto'] # anime id 20"
   ]
  },
  {
   "cell_type": "code",
   "execution_count": 26,
   "metadata": {
    "ExecuteTime": {
     "end_time": "2022-01-31T02:15:16.262538Z",
     "start_time": "2022-01-31T02:15:16.233615Z"
    }
   },
   "outputs": [
    {
     "data": {
      "text/html": [
       "<div>\n",
       "<style scoped>\n",
       "    .dataframe tbody tr th:only-of-type {\n",
       "        vertical-align: middle;\n",
       "    }\n",
       "\n",
       "    .dataframe tbody tr th {\n",
       "        vertical-align: top;\n",
       "    }\n",
       "\n",
       "    .dataframe thead th {\n",
       "        text-align: right;\n",
       "    }\n",
       "</style>\n",
       "<table border=\"1\" class=\"dataframe\">\n",
       "  <thead>\n",
       "    <tr style=\"text-align: right;\">\n",
       "      <th></th>\n",
       "      <th>action</th>\n",
       "      <th>adventure</th>\n",
       "      <th>cars</th>\n",
       "      <th>comedy</th>\n",
       "      <th>dementia</th>\n",
       "      <th>demons</th>\n",
       "      <th>drama</th>\n",
       "      <th>ecchi</th>\n",
       "      <th>fantasy</th>\n",
       "      <th>game</th>\n",
       "      <th>...</th>\n",
       "      <th>shounen ai</th>\n",
       "      <th>slice of life</th>\n",
       "      <th>space</th>\n",
       "      <th>sports</th>\n",
       "      <th>super power</th>\n",
       "      <th>supernatural</th>\n",
       "      <th>thriller</th>\n",
       "      <th>vampire</th>\n",
       "      <th>yaoi</th>\n",
       "      <th>yuri</th>\n",
       "    </tr>\n",
       "  </thead>\n",
       "  <tbody>\n",
       "    <tr>\n",
       "      <th>841</th>\n",
       "      <td>1</td>\n",
       "      <td>0</td>\n",
       "      <td>0</td>\n",
       "      <td>1</td>\n",
       "      <td>0</td>\n",
       "      <td>0</td>\n",
       "      <td>0</td>\n",
       "      <td>0</td>\n",
       "      <td>0</td>\n",
       "      <td>0</td>\n",
       "      <td>...</td>\n",
       "      <td>0</td>\n",
       "      <td>0</td>\n",
       "      <td>0</td>\n",
       "      <td>0</td>\n",
       "      <td>1</td>\n",
       "      <td>0</td>\n",
       "      <td>0</td>\n",
       "      <td>0</td>\n",
       "      <td>0</td>\n",
       "      <td>0</td>\n",
       "    </tr>\n",
       "  </tbody>\n",
       "</table>\n",
       "<p>1 rows × 43 columns</p>\n",
       "</div>"
      ],
      "text/plain": [
       "     action  adventure  cars  comedy  dementia  demons  drama  ecchi  fantasy  \\\n",
       "841       1          0     0       1         0       0      0      0        0   \n",
       "\n",
       "     game  ...  shounen ai  slice of life  space  sports  super power  \\\n",
       "841     0  ...           0              0      0       0            1   \n",
       "\n",
       "     supernatural  thriller  vampire  yaoi  yuri  \n",
       "841             0         0        0     0     0  \n",
       "\n",
       "[1 rows x 43 columns]"
      ]
     },
     "execution_count": 26,
     "metadata": {},
     "output_type": "execute_result"
    }
   ],
   "source": [
    "genre[genre['anime_id']==20].drop(columns='anime_id') # profil dari anime yang disuka"
   ]
  },
  {
   "cell_type": "code",
   "execution_count": 27,
   "metadata": {
    "ExecuteTime": {
     "end_time": "2022-01-31T02:15:16.294453Z",
     "start_time": "2022-01-31T02:15:16.263536Z"
    }
   },
   "outputs": [],
   "source": [
    "score=cosine_similarity(genre[genre['anime_id']==20].drop(columns='anime_id'), genre.drop(columns='anime_id'))"
   ]
  },
  {
   "cell_type": "code",
   "execution_count": 28,
   "metadata": {
    "ExecuteTime": {
     "end_time": "2022-01-31T02:15:16.310414Z",
     "start_time": "2022-01-31T02:15:16.295467Z"
    }
   },
   "outputs": [
    {
     "data": {
      "text/plain": [
       "(1, 12232)"
      ]
     },
     "execution_count": 28,
     "metadata": {},
     "output_type": "execute_result"
    }
   ],
   "source": [
    "score.shape # score similarity antara naruto dengan anime2 lain"
   ]
  },
  {
   "cell_type": "code",
   "execution_count": 29,
   "metadata": {
    "ExecuteTime": {
     "end_time": "2022-01-31T02:15:16.326367Z",
     "start_time": "2022-01-31T02:15:16.313403Z"
    }
   },
   "outputs": [],
   "source": [
    "df_anime['score']=score.flatten()"
   ]
  },
  {
   "cell_type": "code",
   "execution_count": 30,
   "metadata": {
    "ExecuteTime": {
     "end_time": "2022-01-31T02:15:16.341327Z",
     "start_time": "2022-01-31T02:15:16.328361Z"
    }
   },
   "outputs": [],
   "source": [
    "df_score=df_anime[['name','anime_id','score']].copy()"
   ]
  },
  {
   "cell_type": "code",
   "execution_count": 31,
   "metadata": {
    "ExecuteTime": {
     "end_time": "2022-01-31T02:15:16.357285Z",
     "start_time": "2022-01-31T02:15:16.343321Z"
    }
   },
   "outputs": [
    {
     "data": {
      "text/html": [
       "<div>\n",
       "<style scoped>\n",
       "    .dataframe tbody tr th:only-of-type {\n",
       "        vertical-align: middle;\n",
       "    }\n",
       "\n",
       "    .dataframe tbody tr th {\n",
       "        vertical-align: top;\n",
       "    }\n",
       "\n",
       "    .dataframe thead th {\n",
       "        text-align: right;\n",
       "    }\n",
       "</style>\n",
       "<table border=\"1\" class=\"dataframe\">\n",
       "  <thead>\n",
       "    <tr style=\"text-align: right;\">\n",
       "      <th></th>\n",
       "      <th>name</th>\n",
       "      <th>anime_id</th>\n",
       "      <th>score</th>\n",
       "    </tr>\n",
       "  </thead>\n",
       "  <tbody>\n",
       "    <tr>\n",
       "      <th>615</th>\n",
       "      <td>Naruto: Shippuuden</td>\n",
       "      <td>1735</td>\n",
       "      <td>1.000000</td>\n",
       "    </tr>\n",
       "    <tr>\n",
       "      <th>2996</th>\n",
       "      <td>Naruto Soyokazeden Movie: Naruto to Mashin to ...</td>\n",
       "      <td>10659</td>\n",
       "      <td>1.000000</td>\n",
       "    </tr>\n",
       "    <tr>\n",
       "      <th>486</th>\n",
       "      <td>Boruto: Naruto the Movie</td>\n",
       "      <td>28755</td>\n",
       "      <td>1.000000</td>\n",
       "    </tr>\n",
       "    <tr>\n",
       "      <th>1343</th>\n",
       "      <td>Naruto x UT</td>\n",
       "      <td>10075</td>\n",
       "      <td>1.000000</td>\n",
       "    </tr>\n",
       "    <tr>\n",
       "      <th>1573</th>\n",
       "      <td>Naruto: Shippuuden Movie 3 - Hi no Ishi wo Tsu...</td>\n",
       "      <td>6325</td>\n",
       "      <td>1.000000</td>\n",
       "    </tr>\n",
       "    <tr>\n",
       "      <th>1103</th>\n",
       "      <td>Boruto: Naruto the Movie - Naruto ga Hokage ni...</td>\n",
       "      <td>32365</td>\n",
       "      <td>1.000000</td>\n",
       "    </tr>\n",
       "    <tr>\n",
       "      <th>2458</th>\n",
       "      <td>Naruto Shippuuden: Sunny Side Battle</td>\n",
       "      <td>19511</td>\n",
       "      <td>1.000000</td>\n",
       "    </tr>\n",
       "    <tr>\n",
       "      <th>1472</th>\n",
       "      <td>Naruto: Shippuuden Movie 4 - The Lost Tower</td>\n",
       "      <td>8246</td>\n",
       "      <td>1.000000</td>\n",
       "    </tr>\n",
       "    <tr>\n",
       "      <th>7617</th>\n",
       "      <td>Kyutai Panic Adventure!</td>\n",
       "      <td>23933</td>\n",
       "      <td>0.894427</td>\n",
       "    </tr>\n",
       "    <tr>\n",
       "      <th>175</th>\n",
       "      <td>Katekyo Hitman Reborn!</td>\n",
       "      <td>1604</td>\n",
       "      <td>0.894427</td>\n",
       "    </tr>\n",
       "  </tbody>\n",
       "</table>\n",
       "</div>"
      ],
      "text/plain": [
       "                                                   name  anime_id     score\n",
       "615                                  Naruto: Shippuuden      1735  1.000000\n",
       "2996  Naruto Soyokazeden Movie: Naruto to Mashin to ...     10659  1.000000\n",
       "486                            Boruto: Naruto the Movie     28755  1.000000\n",
       "1343                                        Naruto x UT     10075  1.000000\n",
       "1573  Naruto: Shippuuden Movie 3 - Hi no Ishi wo Tsu...      6325  1.000000\n",
       "1103  Boruto: Naruto the Movie - Naruto ga Hokage ni...     32365  1.000000\n",
       "2458               Naruto Shippuuden: Sunny Side Battle     19511  1.000000\n",
       "1472        Naruto: Shippuuden Movie 4 - The Lost Tower      8246  1.000000\n",
       "7617                            Kyutai Panic Adventure!     23933  0.894427\n",
       "175                              Katekyo Hitman Reborn!      1604  0.894427"
      ]
     },
     "execution_count": 31,
     "metadata": {},
     "output_type": "execute_result"
    }
   ],
   "source": [
    "df_score[df_score['anime_id']!=20].sort_values('score', ascending=False).iloc[:10]\n",
    "# 10 anime teratas yang direkomendasikan untuk user yang menyukai naruto"
   ]
  },
  {
   "cell_type": "markdown",
   "metadata": {},
   "source": [
    "Mari kita buat proses di atas menjadi 1 function"
   ]
  },
  {
   "cell_type": "code",
   "execution_count": 32,
   "metadata": {
    "ExecuteTime": {
     "end_time": "2022-01-31T02:15:16.372244Z",
     "start_time": "2022-01-31T02:15:16.358282Z"
    }
   },
   "outputs": [],
   "source": [
    "def recommend():\n",
    "    anime= int(input('Masukkan id anime yang kalian sukai: '))\n",
    "    import numpy as np\n",
    "    import pandas as pd\n",
    "    from sklearn.feature_extraction.text import CountVectorizer\n",
    "    from sklearn.metrics.pairwise import cosine_similarity\n",
    "\n",
    "    # Buat dataframe dengan judul anime dan genre sebagai kolom\n",
    "    df_anime=pd.read_csv('anime.csv',usecols=['anime_id','name','genre']).dropna().reset_index(drop=True)\n",
    "\n",
    "    cvr=CountVectorizer(tokenizer= lambda x:x.split(', '))\n",
    "    genre_a=cvr.fit_transform(df_anime['genre'])\n",
    "\n",
    "    genre= pd.DataFrame(genre_a.toarray(),columns=cvr.get_feature_names_out())\n",
    "    genre= pd.concat([df_anime['anime_id'],genre], axis=1) #item profile\n",
    "\n",
    "\n",
    "    # hitung cosine similarity\n",
    "\n",
    "    score= cosine_similarity(genre[genre['anime_id']==anime].drop(columns='anime_id'),genre.drop(columns='anime_id'))\n",
    "    df_anime['score']=score.flatten()\n",
    "    df_score= df_anime[['name','anime_id','score']].copy()\n",
    "    return df_score[df_score['anime_id']!= anime].sort_values('score', ascending = False).iloc[:5]\n",
    "\n"
   ]
  },
  {
   "cell_type": "code",
   "execution_count": 34,
   "metadata": {
    "ExecuteTime": {
     "end_time": "2022-01-31T02:22:43.422495Z",
     "start_time": "2022-01-31T02:22:43.415520Z"
    }
   },
   "outputs": [],
   "source": [
    "recommend()"
   ]
  },
  {
   "cell_type": "markdown",
   "metadata": {},
   "source": [
    "# Content Based Recommendation System: Content Based Filtering\n",
    "## For 1 User"
   ]
  },
  {
   "cell_type": "code",
   "execution_count": 35,
   "metadata": {
    "ExecuteTime": {
     "end_time": "2022-01-31T02:22:48.096596Z",
     "start_time": "2022-01-31T02:22:48.078644Z"
    }
   },
   "outputs": [],
   "source": [
    "contoh= pd.DataFrame({\n",
    "    'movies':['Terminator', 'Interstellar','Ant Man','3 Idiots'],\n",
    "    'score':[7,9,8,9],\n",
    "    'action':[1,0,1,0],\n",
    "    'scifi':[1,1,1,0],\n",
    "    'adventure':[0,1,1,0],\n",
    "    'comedy':[0,0,1,1],\n",
    "    'drama':[0,1,0,1]\n",
    "})"
   ]
  },
  {
   "cell_type": "code",
   "execution_count": 36,
   "metadata": {
    "ExecuteTime": {
     "end_time": "2022-01-31T02:22:48.689592Z",
     "start_time": "2022-01-31T02:22:48.669616Z"
    }
   },
   "outputs": [
    {
     "data": {
      "text/html": [
       "<div>\n",
       "<style scoped>\n",
       "    .dataframe tbody tr th:only-of-type {\n",
       "        vertical-align: middle;\n",
       "    }\n",
       "\n",
       "    .dataframe tbody tr th {\n",
       "        vertical-align: top;\n",
       "    }\n",
       "\n",
       "    .dataframe thead th {\n",
       "        text-align: right;\n",
       "    }\n",
       "</style>\n",
       "<table border=\"1\" class=\"dataframe\">\n",
       "  <thead>\n",
       "    <tr style=\"text-align: right;\">\n",
       "      <th></th>\n",
       "      <th>movies</th>\n",
       "      <th>score</th>\n",
       "      <th>action</th>\n",
       "      <th>scifi</th>\n",
       "      <th>adventure</th>\n",
       "      <th>comedy</th>\n",
       "      <th>drama</th>\n",
       "    </tr>\n",
       "  </thead>\n",
       "  <tbody>\n",
       "    <tr>\n",
       "      <th>0</th>\n",
       "      <td>Terminator</td>\n",
       "      <td>7</td>\n",
       "      <td>1</td>\n",
       "      <td>1</td>\n",
       "      <td>0</td>\n",
       "      <td>0</td>\n",
       "      <td>0</td>\n",
       "    </tr>\n",
       "    <tr>\n",
       "      <th>1</th>\n",
       "      <td>Interstellar</td>\n",
       "      <td>9</td>\n",
       "      <td>0</td>\n",
       "      <td>1</td>\n",
       "      <td>1</td>\n",
       "      <td>0</td>\n",
       "      <td>1</td>\n",
       "    </tr>\n",
       "    <tr>\n",
       "      <th>2</th>\n",
       "      <td>Ant Man</td>\n",
       "      <td>8</td>\n",
       "      <td>1</td>\n",
       "      <td>1</td>\n",
       "      <td>1</td>\n",
       "      <td>1</td>\n",
       "      <td>0</td>\n",
       "    </tr>\n",
       "    <tr>\n",
       "      <th>3</th>\n",
       "      <td>3 Idiots</td>\n",
       "      <td>9</td>\n",
       "      <td>0</td>\n",
       "      <td>0</td>\n",
       "      <td>0</td>\n",
       "      <td>1</td>\n",
       "      <td>1</td>\n",
       "    </tr>\n",
       "  </tbody>\n",
       "</table>\n",
       "</div>"
      ],
      "text/plain": [
       "         movies  score  action  scifi  adventure  comedy  drama\n",
       "0    Terminator      7       1      1          0       0      0\n",
       "1  Interstellar      9       0      1          1       0      1\n",
       "2       Ant Man      8       1      1          1       1      0\n",
       "3      3 Idiots      9       0      0          0       1      1"
      ]
     },
     "execution_count": 36,
     "metadata": {},
     "output_type": "execute_result"
    }
   ],
   "source": [
    "contoh #item feature matrix"
   ]
  },
  {
   "cell_type": "code",
   "execution_count": 37,
   "metadata": {
    "ExecuteTime": {
     "end_time": "2022-01-31T02:22:49.137199Z",
     "start_time": "2022-01-31T02:22:49.114230Z"
    }
   },
   "outputs": [
    {
     "data": {
      "text/html": [
       "<div>\n",
       "<style scoped>\n",
       "    .dataframe tbody tr th:only-of-type {\n",
       "        vertical-align: middle;\n",
       "    }\n",
       "\n",
       "    .dataframe tbody tr th {\n",
       "        vertical-align: top;\n",
       "    }\n",
       "\n",
       "    .dataframe thead th {\n",
       "        text-align: right;\n",
       "    }\n",
       "</style>\n",
       "<table border=\"1\" class=\"dataframe\">\n",
       "  <thead>\n",
       "    <tr style=\"text-align: right;\">\n",
       "      <th></th>\n",
       "      <th>score</th>\n",
       "      <th>action</th>\n",
       "      <th>scifi</th>\n",
       "      <th>adventure</th>\n",
       "      <th>comedy</th>\n",
       "      <th>drama</th>\n",
       "    </tr>\n",
       "  </thead>\n",
       "  <tbody>\n",
       "    <tr>\n",
       "      <th>0</th>\n",
       "      <td>7</td>\n",
       "      <td>1</td>\n",
       "      <td>1</td>\n",
       "      <td>0</td>\n",
       "      <td>0</td>\n",
       "      <td>0</td>\n",
       "    </tr>\n",
       "    <tr>\n",
       "      <th>1</th>\n",
       "      <td>9</td>\n",
       "      <td>0</td>\n",
       "      <td>1</td>\n",
       "      <td>1</td>\n",
       "      <td>0</td>\n",
       "      <td>1</td>\n",
       "    </tr>\n",
       "    <tr>\n",
       "      <th>2</th>\n",
       "      <td>8</td>\n",
       "      <td>1</td>\n",
       "      <td>1</td>\n",
       "      <td>1</td>\n",
       "      <td>1</td>\n",
       "      <td>0</td>\n",
       "    </tr>\n",
       "    <tr>\n",
       "      <th>3</th>\n",
       "      <td>9</td>\n",
       "      <td>0</td>\n",
       "      <td>0</td>\n",
       "      <td>0</td>\n",
       "      <td>1</td>\n",
       "      <td>1</td>\n",
       "    </tr>\n",
       "  </tbody>\n",
       "</table>\n",
       "</div>"
      ],
      "text/plain": [
       "   score  action  scifi  adventure  comedy  drama\n",
       "0      7       1      1          0       0      0\n",
       "1      9       0      1          1       0      1\n",
       "2      8       1      1          1       1      0\n",
       "3      9       0      0          0       1      1"
      ]
     },
     "execution_count": 37,
     "metadata": {},
     "output_type": "execute_result"
    }
   ],
   "source": [
    "contoh2= contoh.copy().drop(columns='movies')\n",
    "contoh2"
   ]
  },
  {
   "cell_type": "code",
   "execution_count": 38,
   "metadata": {
    "ExecuteTime": {
     "end_time": "2022-01-31T02:22:49.717665Z",
     "start_time": "2022-01-31T02:22:49.645857Z"
    }
   },
   "outputs": [
    {
     "data": {
      "text/html": [
       "<div>\n",
       "<style scoped>\n",
       "    .dataframe tbody tr th:only-of-type {\n",
       "        vertical-align: middle;\n",
       "    }\n",
       "\n",
       "    .dataframe tbody tr th {\n",
       "        vertical-align: top;\n",
       "    }\n",
       "\n",
       "    .dataframe thead th {\n",
       "        text-align: right;\n",
       "    }\n",
       "</style>\n",
       "<table border=\"1\" class=\"dataframe\">\n",
       "  <thead>\n",
       "    <tr style=\"text-align: right;\">\n",
       "      <th></th>\n",
       "      <th>score</th>\n",
       "      <th>action</th>\n",
       "      <th>scifi</th>\n",
       "      <th>adventure</th>\n",
       "      <th>comedy</th>\n",
       "      <th>drama</th>\n",
       "    </tr>\n",
       "  </thead>\n",
       "  <tbody>\n",
       "    <tr>\n",
       "      <th>0</th>\n",
       "      <td>7</td>\n",
       "      <td>7</td>\n",
       "      <td>7</td>\n",
       "      <td>0</td>\n",
       "      <td>0</td>\n",
       "      <td>0</td>\n",
       "    </tr>\n",
       "    <tr>\n",
       "      <th>1</th>\n",
       "      <td>9</td>\n",
       "      <td>0</td>\n",
       "      <td>9</td>\n",
       "      <td>9</td>\n",
       "      <td>0</td>\n",
       "      <td>9</td>\n",
       "    </tr>\n",
       "    <tr>\n",
       "      <th>2</th>\n",
       "      <td>8</td>\n",
       "      <td>8</td>\n",
       "      <td>8</td>\n",
       "      <td>8</td>\n",
       "      <td>8</td>\n",
       "      <td>0</td>\n",
       "    </tr>\n",
       "    <tr>\n",
       "      <th>3</th>\n",
       "      <td>9</td>\n",
       "      <td>0</td>\n",
       "      <td>0</td>\n",
       "      <td>0</td>\n",
       "      <td>9</td>\n",
       "      <td>9</td>\n",
       "    </tr>\n",
       "  </tbody>\n",
       "</table>\n",
       "</div>"
      ],
      "text/plain": [
       "   score  action  scifi  adventure  comedy  drama\n",
       "0      7       7      7          0       0      0\n",
       "1      9       0      9          9       0      9\n",
       "2      8       8      8          8       8      0\n",
       "3      9       0      0          0       9      9"
      ]
     },
     "execution_count": 38,
     "metadata": {},
     "output_type": "execute_result"
    }
   ],
   "source": [
    "for i in contoh2.drop(columns='score').columns:\n",
    "    contoh2[i]= contoh2['score']*contoh2[i]\n",
    "    \n",
    "contoh2"
   ]
  },
  {
   "cell_type": "code",
   "execution_count": 39,
   "metadata": {
    "ExecuteTime": {
     "end_time": "2022-01-31T02:22:50.181615Z",
     "start_time": "2022-01-31T02:22:50.172639Z"
    }
   },
   "outputs": [
    {
     "data": {
      "text/plain": [
       "action       15\n",
       "scifi        24\n",
       "adventure    17\n",
       "comedy       17\n",
       "drama        18\n",
       "dtype: int64"
      ]
     },
     "execution_count": 39,
     "metadata": {},
     "output_type": "execute_result"
    }
   ],
   "source": [
    "contoh2.drop(columns='score').sum() #total score masing2 genre"
   ]
  },
  {
   "cell_type": "code",
   "execution_count": 40,
   "metadata": {
    "ExecuteTime": {
     "end_time": "2022-01-31T02:22:50.697673Z",
     "start_time": "2022-01-31T02:22:50.677697Z"
    }
   },
   "outputs": [
    {
     "data": {
      "text/plain": [
       "91"
      ]
     },
     "execution_count": 40,
     "metadata": {},
     "output_type": "execute_result"
    }
   ],
   "source": [
    "contoh2.drop(columns='score').sum().sum() # total score keseluruhan"
   ]
  },
  {
   "cell_type": "code",
   "execution_count": 41,
   "metadata": {
    "ExecuteTime": {
     "end_time": "2022-01-31T02:22:50.931005Z",
     "start_time": "2022-01-31T02:22:50.921033Z"
    }
   },
   "outputs": [],
   "source": [
    "user_feature_vector=contoh2.drop(columns='score').sum()/contoh2.drop(columns='score').sum().sum() #user feature vector"
   ]
  },
  {
   "cell_type": "code",
   "execution_count": 42,
   "metadata": {
    "ExecuteTime": {
     "end_time": "2022-01-31T02:22:51.303345Z",
     "start_time": "2022-01-31T02:22:51.297326Z"
    }
   },
   "outputs": [
    {
     "data": {
      "text/plain": [
       "action       0.164835\n",
       "scifi        0.263736\n",
       "adventure    0.186813\n",
       "comedy       0.186813\n",
       "drama        0.197802\n",
       "dtype: float64"
      ]
     },
     "execution_count": 42,
     "metadata": {},
     "output_type": "execute_result"
    }
   ],
   "source": [
    "user_feature_vector"
   ]
  },
  {
   "cell_type": "code",
   "execution_count": 43,
   "metadata": {
    "ExecuteTime": {
     "end_time": "2022-01-31T02:22:51.678923Z",
     "start_time": "2022-01-31T02:22:51.651961Z"
    }
   },
   "outputs": [
    {
     "data": {
      "text/html": [
       "<div>\n",
       "<style scoped>\n",
       "    .dataframe tbody tr th:only-of-type {\n",
       "        vertical-align: middle;\n",
       "    }\n",
       "\n",
       "    .dataframe tbody tr th {\n",
       "        vertical-align: top;\n",
       "    }\n",
       "\n",
       "    .dataframe thead th {\n",
       "        text-align: right;\n",
       "    }\n",
       "</style>\n",
       "<table border=\"1\" class=\"dataframe\">\n",
       "  <thead>\n",
       "    <tr style=\"text-align: right;\">\n",
       "      <th></th>\n",
       "      <th>movies</th>\n",
       "      <th>action</th>\n",
       "      <th>scifi</th>\n",
       "      <th>adventure</th>\n",
       "      <th>comedy</th>\n",
       "      <th>drama</th>\n",
       "    </tr>\n",
       "  </thead>\n",
       "  <tbody>\n",
       "    <tr>\n",
       "      <th>0</th>\n",
       "      <td>Titanic</td>\n",
       "      <td>1</td>\n",
       "      <td>1</td>\n",
       "      <td>0</td>\n",
       "      <td>0</td>\n",
       "      <td>0</td>\n",
       "    </tr>\n",
       "    <tr>\n",
       "      <th>1</th>\n",
       "      <td>Martian</td>\n",
       "      <td>0</td>\n",
       "      <td>1</td>\n",
       "      <td>1</td>\n",
       "      <td>0</td>\n",
       "      <td>1</td>\n",
       "    </tr>\n",
       "    <tr>\n",
       "      <th>2</th>\n",
       "      <td>GOTG Vol 2</td>\n",
       "      <td>1</td>\n",
       "      <td>1</td>\n",
       "      <td>1</td>\n",
       "      <td>1</td>\n",
       "      <td>0</td>\n",
       "    </tr>\n",
       "  </tbody>\n",
       "</table>\n",
       "</div>"
      ],
      "text/plain": [
       "       movies  action  scifi  adventure  comedy  drama\n",
       "0     Titanic       1      1          0       0      0\n",
       "1     Martian       0      1          1       0      1\n",
       "2  GOTG Vol 2       1      1          1       1      0"
      ]
     },
     "execution_count": 43,
     "metadata": {},
     "output_type": "execute_result"
    }
   ],
   "source": [
    "contoh_rekom= pd.DataFrame({\n",
    "    'movies':['Titanic','Martian','GOTG Vol 2'],\n",
    "    'action':[1,0,1],\n",
    "    'scifi':[1,1,1],\n",
    "    'adventure':[0,1,1],\n",
    "    'comedy':[0,0,1],\n",
    "    'drama':[0,1,0]\n",
    "})\n",
    "contoh_rekom"
   ]
  },
  {
   "cell_type": "code",
   "execution_count": 44,
   "metadata": {
    "ExecuteTime": {
     "end_time": "2022-01-31T02:22:52.130079Z",
     "start_time": "2022-01-31T02:22:52.102117Z"
    }
   },
   "outputs": [
    {
     "data": {
      "text/html": [
       "<div>\n",
       "<style scoped>\n",
       "    .dataframe tbody tr th:only-of-type {\n",
       "        vertical-align: middle;\n",
       "    }\n",
       "\n",
       "    .dataframe tbody tr th {\n",
       "        vertical-align: top;\n",
       "    }\n",
       "\n",
       "    .dataframe thead th {\n",
       "        text-align: right;\n",
       "    }\n",
       "</style>\n",
       "<table border=\"1\" class=\"dataframe\">\n",
       "  <thead>\n",
       "    <tr style=\"text-align: right;\">\n",
       "      <th></th>\n",
       "      <th>movies</th>\n",
       "      <th>action</th>\n",
       "      <th>scifi</th>\n",
       "      <th>adventure</th>\n",
       "      <th>comedy</th>\n",
       "      <th>drama</th>\n",
       "    </tr>\n",
       "  </thead>\n",
       "  <tbody>\n",
       "    <tr>\n",
       "      <th>0</th>\n",
       "      <td>Titanic</td>\n",
       "      <td>0.164835</td>\n",
       "      <td>0.263736</td>\n",
       "      <td>0.000000</td>\n",
       "      <td>0.000000</td>\n",
       "      <td>0.000000</td>\n",
       "    </tr>\n",
       "    <tr>\n",
       "      <th>1</th>\n",
       "      <td>Martian</td>\n",
       "      <td>0.000000</td>\n",
       "      <td>0.263736</td>\n",
       "      <td>0.186813</td>\n",
       "      <td>0.000000</td>\n",
       "      <td>0.197802</td>\n",
       "    </tr>\n",
       "    <tr>\n",
       "      <th>2</th>\n",
       "      <td>GOTG Vol 2</td>\n",
       "      <td>0.164835</td>\n",
       "      <td>0.263736</td>\n",
       "      <td>0.186813</td>\n",
       "      <td>0.186813</td>\n",
       "      <td>0.000000</td>\n",
       "    </tr>\n",
       "  </tbody>\n",
       "</table>\n",
       "</div>"
      ],
      "text/plain": [
       "       movies    action     scifi  adventure    comedy     drama\n",
       "0     Titanic  0.164835  0.263736   0.000000  0.000000  0.000000\n",
       "1     Martian  0.000000  0.263736   0.186813  0.000000  0.197802\n",
       "2  GOTG Vol 2  0.164835  0.263736   0.186813  0.186813  0.000000"
      ]
     },
     "execution_count": 44,
     "metadata": {},
     "output_type": "execute_result"
    }
   ],
   "source": [
    "for i in contoh_rekom.drop(columns='movies').columns:\n",
    "    contoh_rekom[i]=contoh_rekom[i]*user_feature_vector[i]\n",
    "    \n",
    "contoh_rekom"
   ]
  },
  {
   "cell_type": "code",
   "execution_count": 45,
   "metadata": {
    "ExecuteTime": {
     "end_time": "2022-01-31T02:22:52.501391Z",
     "start_time": "2022-01-31T02:22:52.490421Z"
    }
   },
   "outputs": [],
   "source": [
    "contoh_rekom['rating pred']=contoh_rekom.sum(axis=1)"
   ]
  },
  {
   "cell_type": "code",
   "execution_count": 46,
   "metadata": {
    "ExecuteTime": {
     "end_time": "2022-01-31T02:22:52.921912Z",
     "start_time": "2022-01-31T02:22:52.909945Z"
    }
   },
   "outputs": [
    {
     "data": {
      "text/html": [
       "<div>\n",
       "<style scoped>\n",
       "    .dataframe tbody tr th:only-of-type {\n",
       "        vertical-align: middle;\n",
       "    }\n",
       "\n",
       "    .dataframe tbody tr th {\n",
       "        vertical-align: top;\n",
       "    }\n",
       "\n",
       "    .dataframe thead th {\n",
       "        text-align: right;\n",
       "    }\n",
       "</style>\n",
       "<table border=\"1\" class=\"dataframe\">\n",
       "  <thead>\n",
       "    <tr style=\"text-align: right;\">\n",
       "      <th></th>\n",
       "      <th>movies</th>\n",
       "      <th>action</th>\n",
       "      <th>scifi</th>\n",
       "      <th>adventure</th>\n",
       "      <th>comedy</th>\n",
       "      <th>drama</th>\n",
       "      <th>rating pred</th>\n",
       "    </tr>\n",
       "  </thead>\n",
       "  <tbody>\n",
       "    <tr>\n",
       "      <th>0</th>\n",
       "      <td>Titanic</td>\n",
       "      <td>0.164835</td>\n",
       "      <td>0.263736</td>\n",
       "      <td>0.000000</td>\n",
       "      <td>0.000000</td>\n",
       "      <td>0.000000</td>\n",
       "      <td>0.428571</td>\n",
       "    </tr>\n",
       "    <tr>\n",
       "      <th>1</th>\n",
       "      <td>Martian</td>\n",
       "      <td>0.000000</td>\n",
       "      <td>0.263736</td>\n",
       "      <td>0.186813</td>\n",
       "      <td>0.000000</td>\n",
       "      <td>0.197802</td>\n",
       "      <td>0.648352</td>\n",
       "    </tr>\n",
       "    <tr>\n",
       "      <th>2</th>\n",
       "      <td>GOTG Vol 2</td>\n",
       "      <td>0.164835</td>\n",
       "      <td>0.263736</td>\n",
       "      <td>0.186813</td>\n",
       "      <td>0.186813</td>\n",
       "      <td>0.000000</td>\n",
       "      <td>0.802198</td>\n",
       "    </tr>\n",
       "  </tbody>\n",
       "</table>\n",
       "</div>"
      ],
      "text/plain": [
       "       movies    action     scifi  adventure    comedy     drama  rating pred\n",
       "0     Titanic  0.164835  0.263736   0.000000  0.000000  0.000000     0.428571\n",
       "1     Martian  0.000000  0.263736   0.186813  0.000000  0.197802     0.648352\n",
       "2  GOTG Vol 2  0.164835  0.263736   0.186813  0.186813  0.000000     0.802198"
      ]
     },
     "execution_count": 46,
     "metadata": {},
     "output_type": "execute_result"
    }
   ],
   "source": [
    "contoh_rekom"
   ]
  },
  {
   "cell_type": "markdown",
   "metadata": {},
   "source": [
    "untuk user ini, kita akan merekomendasikan film GOTG Vol 2, Martian dan Titanic secara berurutan"
   ]
  },
  {
   "cell_type": "markdown",
   "metadata": {},
   "source": [
    "## Multiple Users"
   ]
  },
  {
   "cell_type": "code",
   "execution_count": 47,
   "metadata": {
    "ExecuteTime": {
     "end_time": "2022-01-31T02:22:54.214127Z",
     "start_time": "2022-01-31T02:22:54.191190Z"
    }
   },
   "outputs": [
    {
     "data": {
      "text/html": [
       "<div>\n",
       "<style scoped>\n",
       "    .dataframe tbody tr th:only-of-type {\n",
       "        vertical-align: middle;\n",
       "    }\n",
       "\n",
       "    .dataframe tbody tr th {\n",
       "        vertical-align: top;\n",
       "    }\n",
       "\n",
       "    .dataframe thead th {\n",
       "        text-align: right;\n",
       "    }\n",
       "</style>\n",
       "<table border=\"1\" class=\"dataframe\">\n",
       "  <thead>\n",
       "    <tr style=\"text-align: right;\">\n",
       "      <th></th>\n",
       "      <th>movies</th>\n",
       "      <th>action</th>\n",
       "      <th>scifi</th>\n",
       "      <th>adventure</th>\n",
       "      <th>comedy</th>\n",
       "      <th>drama</th>\n",
       "    </tr>\n",
       "  </thead>\n",
       "  <tbody>\n",
       "    <tr>\n",
       "      <th>0</th>\n",
       "      <td>Terminator</td>\n",
       "      <td>1</td>\n",
       "      <td>1</td>\n",
       "      <td>0</td>\n",
       "      <td>0</td>\n",
       "      <td>0</td>\n",
       "    </tr>\n",
       "    <tr>\n",
       "      <th>1</th>\n",
       "      <td>Interstellar</td>\n",
       "      <td>0</td>\n",
       "      <td>1</td>\n",
       "      <td>1</td>\n",
       "      <td>0</td>\n",
       "      <td>1</td>\n",
       "    </tr>\n",
       "    <tr>\n",
       "      <th>2</th>\n",
       "      <td>Ant Man</td>\n",
       "      <td>1</td>\n",
       "      <td>1</td>\n",
       "      <td>1</td>\n",
       "      <td>1</td>\n",
       "      <td>0</td>\n",
       "    </tr>\n",
       "    <tr>\n",
       "      <th>3</th>\n",
       "      <td>3 Idiots</td>\n",
       "      <td>0</td>\n",
       "      <td>0</td>\n",
       "      <td>0</td>\n",
       "      <td>1</td>\n",
       "      <td>1</td>\n",
       "    </tr>\n",
       "  </tbody>\n",
       "</table>\n",
       "</div>"
      ],
      "text/plain": [
       "         movies  action  scifi  adventure  comedy  drama\n",
       "0    Terminator       1      1          0       0      0\n",
       "1  Interstellar       0      1          1       0      1\n",
       "2       Ant Man       1      1          1       1      0\n",
       "3      3 Idiots       0      0          0       1      1"
      ]
     },
     "execution_count": 47,
     "metadata": {},
     "output_type": "execute_result"
    }
   ],
   "source": [
    "df_item_feature=pd.DataFrame({\n",
    "    'movies':['Terminator', 'Interstellar','Ant Man','3 Idiots'],\n",
    "    'action':[1,0,1,0],\n",
    "    'scifi':[1,1,1,0],\n",
    "    'adventure':[0,1,1,0],\n",
    "    'comedy':[0,0,1,1],\n",
    "    'drama':[0,1,0,1]\n",
    "})\n",
    "df_item_feature"
   ]
  },
  {
   "cell_type": "code",
   "execution_count": 48,
   "metadata": {
    "ExecuteTime": {
     "end_time": "2022-01-31T02:22:54.646976Z",
     "start_time": "2022-01-31T02:22:54.630017Z"
    }
   },
   "outputs": [
    {
     "data": {
      "text/html": [
       "<div>\n",
       "<style scoped>\n",
       "    .dataframe tbody tr th:only-of-type {\n",
       "        vertical-align: middle;\n",
       "    }\n",
       "\n",
       "    .dataframe tbody tr th {\n",
       "        vertical-align: top;\n",
       "    }\n",
       "\n",
       "    .dataframe thead th {\n",
       "        text-align: right;\n",
       "    }\n",
       "</style>\n",
       "<table border=\"1\" class=\"dataframe\">\n",
       "  <thead>\n",
       "    <tr style=\"text-align: right;\">\n",
       "      <th></th>\n",
       "      <th>users</th>\n",
       "      <th>Terminator</th>\n",
       "      <th>Interstellar</th>\n",
       "      <th>Ant Man</th>\n",
       "      <th>3 Idiots</th>\n",
       "    </tr>\n",
       "  </thead>\n",
       "  <tbody>\n",
       "    <tr>\n",
       "      <th>0</th>\n",
       "      <td>user1</td>\n",
       "      <td>7</td>\n",
       "      <td>9</td>\n",
       "      <td>8</td>\n",
       "      <td>9</td>\n",
       "    </tr>\n",
       "    <tr>\n",
       "      <th>1</th>\n",
       "      <td>user2</td>\n",
       "      <td>8</td>\n",
       "      <td>0</td>\n",
       "      <td>6</td>\n",
       "      <td>5</td>\n",
       "    </tr>\n",
       "    <tr>\n",
       "      <th>2</th>\n",
       "      <td>user3</td>\n",
       "      <td>9</td>\n",
       "      <td>0</td>\n",
       "      <td>0</td>\n",
       "      <td>10</td>\n",
       "    </tr>\n",
       "    <tr>\n",
       "      <th>3</th>\n",
       "      <td>user4</td>\n",
       "      <td>0</td>\n",
       "      <td>7</td>\n",
       "      <td>0</td>\n",
       "      <td>9</td>\n",
       "    </tr>\n",
       "  </tbody>\n",
       "</table>\n",
       "</div>"
      ],
      "text/plain": [
       "   users  Terminator  Interstellar  Ant Man  3 Idiots\n",
       "0  user1           7             9        8         9\n",
       "1  user2           8             0        6         5\n",
       "2  user3           9             0        0        10\n",
       "3  user4           0             7        0         9"
      ]
     },
     "execution_count": 48,
     "metadata": {},
     "output_type": "execute_result"
    }
   ],
   "source": [
    "df_user_item= pd.DataFrame({\n",
    "    'users':['user1','user2','user3','user4'],\n",
    "    'Terminator':[7,8,9,0],\n",
    "    'Interstellar':[9,0,0,7],\n",
    "    'Ant Man':[8,6,0,0],\n",
    "    '3 Idiots':[9,5,10,9]\n",
    "})\n",
    "df_user_item"
   ]
  },
  {
   "cell_type": "code",
   "execution_count": 49,
   "metadata": {
    "ExecuteTime": {
     "end_time": "2022-01-31T02:22:55.068332Z",
     "start_time": "2022-01-31T02:22:55.049383Z"
    }
   },
   "outputs": [],
   "source": [
    "# hitung user feature matrix\n",
    "user_item= np.array(df_user_item.drop(columns='users'))\n",
    "item_feature= np.array(df_item_feature.drop(columns='movies'))\n",
    "\n",
    "n_user=user_item.shape[0]\n",
    "n_item=user_item.shape[1]\n",
    "n_feature=item_feature.shape[1]\n",
    "\n",
    "user_feature=np.empty((n_user,n_feature)) #array kosong berukuran n_user x n_feature\n",
    "\n",
    "for i in range(n_user):\n",
    "    user_feature_vector=np.matmul(user_item[i,:],item_feature)\n",
    "#     print(user_item[i,:])\n",
    "#     print(user_feature_vector)\n",
    "    user_feature_vector= user_feature_vector/user_feature_vector.sum()\n",
    "#     print(user_feature_vector)\n",
    "    user_feature[i,:]=user_feature_vector"
   ]
  },
  {
   "cell_type": "code",
   "execution_count": 50,
   "metadata": {
    "ExecuteTime": {
     "end_time": "2022-01-31T02:22:55.552073Z",
     "start_time": "2022-01-31T02:22:55.535084Z"
    }
   },
   "outputs": [
    {
     "data": {
      "text/plain": [
       "array([[0.16483516, 0.26373626, 0.18681319, 0.18681319, 0.1978022 ],\n",
       "       [0.28      , 0.28      , 0.12      , 0.22      , 0.1       ],\n",
       "       [0.23684211, 0.23684211, 0.        , 0.26315789, 0.26315789],\n",
       "       [0.        , 0.17948718, 0.17948718, 0.23076923, 0.41025641]])"
      ]
     },
     "execution_count": 50,
     "metadata": {},
     "output_type": "execute_result"
    }
   ],
   "source": [
    "user_feature \n"
   ]
  },
  {
   "cell_type": "code",
   "execution_count": 51,
   "metadata": {
    "ExecuteTime": {
     "end_time": "2022-01-31T02:22:55.830944Z",
     "start_time": "2022-01-31T02:22:55.812962Z"
    }
   },
   "outputs": [],
   "source": [
    "df_user_feature=pd.DataFrame(user_feature, index=df_user_item['users'], columns=df_item_feature.columns[1:])"
   ]
  },
  {
   "cell_type": "code",
   "execution_count": 52,
   "metadata": {
    "ExecuteTime": {
     "end_time": "2022-01-31T02:22:56.061297Z",
     "start_time": "2022-01-31T02:22:56.039357Z"
    }
   },
   "outputs": [
    {
     "data": {
      "text/html": [
       "<div>\n",
       "<style scoped>\n",
       "    .dataframe tbody tr th:only-of-type {\n",
       "        vertical-align: middle;\n",
       "    }\n",
       "\n",
       "    .dataframe tbody tr th {\n",
       "        vertical-align: top;\n",
       "    }\n",
       "\n",
       "    .dataframe thead th {\n",
       "        text-align: right;\n",
       "    }\n",
       "</style>\n",
       "<table border=\"1\" class=\"dataframe\">\n",
       "  <thead>\n",
       "    <tr style=\"text-align: right;\">\n",
       "      <th></th>\n",
       "      <th>action</th>\n",
       "      <th>scifi</th>\n",
       "      <th>adventure</th>\n",
       "      <th>comedy</th>\n",
       "      <th>drama</th>\n",
       "    </tr>\n",
       "    <tr>\n",
       "      <th>users</th>\n",
       "      <th></th>\n",
       "      <th></th>\n",
       "      <th></th>\n",
       "      <th></th>\n",
       "      <th></th>\n",
       "    </tr>\n",
       "  </thead>\n",
       "  <tbody>\n",
       "    <tr>\n",
       "      <th>user1</th>\n",
       "      <td>0.164835</td>\n",
       "      <td>0.263736</td>\n",
       "      <td>0.186813</td>\n",
       "      <td>0.186813</td>\n",
       "      <td>0.197802</td>\n",
       "    </tr>\n",
       "    <tr>\n",
       "      <th>user2</th>\n",
       "      <td>0.280000</td>\n",
       "      <td>0.280000</td>\n",
       "      <td>0.120000</td>\n",
       "      <td>0.220000</td>\n",
       "      <td>0.100000</td>\n",
       "    </tr>\n",
       "    <tr>\n",
       "      <th>user3</th>\n",
       "      <td>0.236842</td>\n",
       "      <td>0.236842</td>\n",
       "      <td>0.000000</td>\n",
       "      <td>0.263158</td>\n",
       "      <td>0.263158</td>\n",
       "    </tr>\n",
       "    <tr>\n",
       "      <th>user4</th>\n",
       "      <td>0.000000</td>\n",
       "      <td>0.179487</td>\n",
       "      <td>0.179487</td>\n",
       "      <td>0.230769</td>\n",
       "      <td>0.410256</td>\n",
       "    </tr>\n",
       "  </tbody>\n",
       "</table>\n",
       "</div>"
      ],
      "text/plain": [
       "         action     scifi  adventure    comedy     drama\n",
       "users                                                   \n",
       "user1  0.164835  0.263736   0.186813  0.186813  0.197802\n",
       "user2  0.280000  0.280000   0.120000  0.220000  0.100000\n",
       "user3  0.236842  0.236842   0.000000  0.263158  0.263158\n",
       "user4  0.000000  0.179487   0.179487  0.230769  0.410256"
      ]
     },
     "execution_count": 52,
     "metadata": {},
     "output_type": "execute_result"
    }
   ],
   "source": [
    "df_user_feature"
   ]
  },
  {
   "cell_type": "code",
   "execution_count": 53,
   "metadata": {
    "ExecuteTime": {
     "end_time": "2022-01-31T02:22:56.266400Z",
     "start_time": "2022-01-31T02:22:56.248448Z"
    }
   },
   "outputs": [],
   "source": [
    "# prediksi rating dari film pada df_user_item\n",
    "user_item_score=np.empty((n_user,n_item)) #array kosong\n",
    "for i in range(n_user):\n",
    "    score_=np.matmul(item_feature,user_feature[i,:])\n",
    "    user_item_score[i,:]=score_\n"
   ]
  },
  {
   "cell_type": "code",
   "execution_count": 54,
   "metadata": {
    "ExecuteTime": {
     "end_time": "2022-01-31T02:22:56.627278Z",
     "start_time": "2022-01-31T02:22:56.615786Z"
    }
   },
   "outputs": [
    {
     "data": {
      "text/plain": [
       "array([[0.42857143, 0.64835165, 0.8021978 , 0.38461538],\n",
       "       [0.56      , 0.5       , 0.9       , 0.32      ],\n",
       "       [0.47368421, 0.5       , 0.73684211, 0.52631579],\n",
       "       [0.17948718, 0.76923077, 0.58974359, 0.64102564]])"
      ]
     },
     "execution_count": 54,
     "metadata": {},
     "output_type": "execute_result"
    }
   ],
   "source": [
    "user_item_score"
   ]
  },
  {
   "cell_type": "code",
   "execution_count": 55,
   "metadata": {
    "ExecuteTime": {
     "end_time": "2022-01-31T02:22:57.030539Z",
     "start_time": "2022-01-31T02:22:57.014552Z"
    }
   },
   "outputs": [
    {
     "data": {
      "text/plain": [
       "array([[ 7,  9,  8,  9],\n",
       "       [ 8,  0,  6,  5],\n",
       "       [ 9,  0,  0, 10],\n",
       "       [ 0,  7,  0,  9]], dtype=int64)"
      ]
     },
     "execution_count": 55,
     "metadata": {},
     "output_type": "execute_result"
    }
   ],
   "source": [
    "user_item"
   ]
  },
  {
   "cell_type": "code",
   "execution_count": 56,
   "metadata": {
    "ExecuteTime": {
     "end_time": "2022-01-31T02:22:57.438417Z",
     "start_time": "2022-01-31T02:22:57.414488Z"
    }
   },
   "outputs": [
    {
     "data": {
      "text/html": [
       "<div>\n",
       "<style scoped>\n",
       "    .dataframe tbody tr th:only-of-type {\n",
       "        vertical-align: middle;\n",
       "    }\n",
       "\n",
       "    .dataframe tbody tr th {\n",
       "        vertical-align: top;\n",
       "    }\n",
       "\n",
       "    .dataframe thead th {\n",
       "        text-align: right;\n",
       "    }\n",
       "</style>\n",
       "<table border=\"1\" class=\"dataframe\">\n",
       "  <thead>\n",
       "    <tr style=\"text-align: right;\">\n",
       "      <th>movies</th>\n",
       "      <th>Terminator</th>\n",
       "      <th>Interstellar</th>\n",
       "      <th>Ant Man</th>\n",
       "      <th>3 Idiots</th>\n",
       "    </tr>\n",
       "    <tr>\n",
       "      <th>users</th>\n",
       "      <th></th>\n",
       "      <th></th>\n",
       "      <th></th>\n",
       "      <th></th>\n",
       "    </tr>\n",
       "  </thead>\n",
       "  <tbody>\n",
       "    <tr>\n",
       "      <th>user1</th>\n",
       "      <td>0.000000</td>\n",
       "      <td>0.0</td>\n",
       "      <td>0.000000</td>\n",
       "      <td>0.0</td>\n",
       "    </tr>\n",
       "    <tr>\n",
       "      <th>user2</th>\n",
       "      <td>0.000000</td>\n",
       "      <td>0.5</td>\n",
       "      <td>0.000000</td>\n",
       "      <td>0.0</td>\n",
       "    </tr>\n",
       "    <tr>\n",
       "      <th>user3</th>\n",
       "      <td>0.000000</td>\n",
       "      <td>0.5</td>\n",
       "      <td>0.736842</td>\n",
       "      <td>0.0</td>\n",
       "    </tr>\n",
       "    <tr>\n",
       "      <th>user4</th>\n",
       "      <td>0.179487</td>\n",
       "      <td>0.0</td>\n",
       "      <td>0.589744</td>\n",
       "      <td>0.0</td>\n",
       "    </tr>\n",
       "  </tbody>\n",
       "</table>\n",
       "</div>"
      ],
      "text/plain": [
       "movies  Terminator  Interstellar   Ant Man  3 Idiots\n",
       "users                                               \n",
       "user1     0.000000           0.0  0.000000       0.0\n",
       "user2     0.000000           0.5  0.000000       0.0\n",
       "user3     0.000000           0.5  0.736842       0.0\n",
       "user4     0.179487           0.0  0.589744       0.0"
      ]
     },
     "execution_count": 56,
     "metadata": {},
     "output_type": "execute_result"
    }
   ],
   "source": [
    "pd.DataFrame(np.where(user_item==0, user_item_score, 0), columns=df_item_feature['movies'], index= df_user_item['users'])"
   ]
  },
  {
   "cell_type": "markdown",
   "metadata": {},
   "source": [
    "Dari score di atas, user3 bisa direkomendasikan untuk menonton ant man dan interstellar,  \n",
    "sementara user 4 direkomendasikan film ant man (score untuk terminator terlalu rendah)"
   ]
  },
  {
   "cell_type": "code",
   "execution_count": 57,
   "metadata": {
    "ExecuteTime": {
     "end_time": "2022-01-31T02:23:04.233168Z",
     "start_time": "2022-01-31T02:23:04.225189Z"
    }
   },
   "outputs": [],
   "source": [
    "# merekomendasikan dari film2 baru\n",
    "df_item_feature_new=pd.DataFrame({\n",
    "    'movies':['Titanic','Martian','GOTG Vol 2'],\n",
    "    'action':[1,0,1],\n",
    "    'scifi':[1,1,1],\n",
    "    'adventure':[0,1,1],\n",
    "    'comedy':[0,0,1],\n",
    "    'drama':[0,1,0]\n",
    "})"
   ]
  },
  {
   "cell_type": "code",
   "execution_count": 58,
   "metadata": {
    "ExecuteTime": {
     "end_time": "2022-01-31T02:23:04.637540Z",
     "start_time": "2022-01-31T02:23:04.628564Z"
    }
   },
   "outputs": [
    {
     "data": {
      "text/html": [
       "<div>\n",
       "<style scoped>\n",
       "    .dataframe tbody tr th:only-of-type {\n",
       "        vertical-align: middle;\n",
       "    }\n",
       "\n",
       "    .dataframe tbody tr th {\n",
       "        vertical-align: top;\n",
       "    }\n",
       "\n",
       "    .dataframe thead th {\n",
       "        text-align: right;\n",
       "    }\n",
       "</style>\n",
       "<table border=\"1\" class=\"dataframe\">\n",
       "  <thead>\n",
       "    <tr style=\"text-align: right;\">\n",
       "      <th></th>\n",
       "      <th>movies</th>\n",
       "      <th>action</th>\n",
       "      <th>scifi</th>\n",
       "      <th>adventure</th>\n",
       "      <th>comedy</th>\n",
       "      <th>drama</th>\n",
       "    </tr>\n",
       "  </thead>\n",
       "  <tbody>\n",
       "    <tr>\n",
       "      <th>0</th>\n",
       "      <td>Titanic</td>\n",
       "      <td>1</td>\n",
       "      <td>1</td>\n",
       "      <td>0</td>\n",
       "      <td>0</td>\n",
       "      <td>0</td>\n",
       "    </tr>\n",
       "    <tr>\n",
       "      <th>1</th>\n",
       "      <td>Martian</td>\n",
       "      <td>0</td>\n",
       "      <td>1</td>\n",
       "      <td>1</td>\n",
       "      <td>0</td>\n",
       "      <td>1</td>\n",
       "    </tr>\n",
       "    <tr>\n",
       "      <th>2</th>\n",
       "      <td>GOTG Vol 2</td>\n",
       "      <td>1</td>\n",
       "      <td>1</td>\n",
       "      <td>1</td>\n",
       "      <td>1</td>\n",
       "      <td>0</td>\n",
       "    </tr>\n",
       "  </tbody>\n",
       "</table>\n",
       "</div>"
      ],
      "text/plain": [
       "       movies  action  scifi  adventure  comedy  drama\n",
       "0     Titanic       1      1          0       0      0\n",
       "1     Martian       0      1          1       0      1\n",
       "2  GOTG Vol 2       1      1          1       1      0"
      ]
     },
     "execution_count": 58,
     "metadata": {},
     "output_type": "execute_result"
    }
   ],
   "source": [
    "df_item_feature_new"
   ]
  },
  {
   "cell_type": "code",
   "execution_count": 59,
   "metadata": {
    "ExecuteTime": {
     "end_time": "2022-01-31T02:23:05.060873Z",
     "start_time": "2022-01-31T02:23:05.051896Z"
    }
   },
   "outputs": [],
   "source": [
    "item_feature_new= np.array(df_item_feature_new.drop(columns='movies'))\n",
    "# item_feature_new\n",
    "n_item_new= item_feature_new.shape[0]\n",
    "# n_item_new\n",
    "user_item_score_new=np.empty((n_user,n_item_new))\n",
    "\n",
    "for i in range(n_user):\n",
    "    user_item_score_=np.matmul(item_feature_new, user_feature[i,:])\n",
    "    user_item_score_new[i,:]=user_item_score_"
   ]
  },
  {
   "cell_type": "code",
   "execution_count": 60,
   "metadata": {
    "ExecuteTime": {
     "end_time": "2022-01-31T02:23:05.543777Z",
     "start_time": "2022-01-31T02:23:05.531810Z"
    }
   },
   "outputs": [
    {
     "data": {
      "text/html": [
       "<div>\n",
       "<style scoped>\n",
       "    .dataframe tbody tr th:only-of-type {\n",
       "        vertical-align: middle;\n",
       "    }\n",
       "\n",
       "    .dataframe tbody tr th {\n",
       "        vertical-align: top;\n",
       "    }\n",
       "\n",
       "    .dataframe thead th {\n",
       "        text-align: right;\n",
       "    }\n",
       "</style>\n",
       "<table border=\"1\" class=\"dataframe\">\n",
       "  <thead>\n",
       "    <tr style=\"text-align: right;\">\n",
       "      <th>users</th>\n",
       "      <th>user1</th>\n",
       "      <th>user2</th>\n",
       "      <th>user3</th>\n",
       "      <th>user4</th>\n",
       "    </tr>\n",
       "    <tr>\n",
       "      <th>movies</th>\n",
       "      <th></th>\n",
       "      <th></th>\n",
       "      <th></th>\n",
       "      <th></th>\n",
       "    </tr>\n",
       "  </thead>\n",
       "  <tbody>\n",
       "    <tr>\n",
       "      <th>Titanic</th>\n",
       "      <td>0.428571</td>\n",
       "      <td>0.56</td>\n",
       "      <td>0.473684</td>\n",
       "      <td>0.179487</td>\n",
       "    </tr>\n",
       "    <tr>\n",
       "      <th>Martian</th>\n",
       "      <td>0.648352</td>\n",
       "      <td>0.50</td>\n",
       "      <td>0.500000</td>\n",
       "      <td>0.769231</td>\n",
       "    </tr>\n",
       "    <tr>\n",
       "      <th>GOTG Vol 2</th>\n",
       "      <td>0.802198</td>\n",
       "      <td>0.90</td>\n",
       "      <td>0.736842</td>\n",
       "      <td>0.589744</td>\n",
       "    </tr>\n",
       "  </tbody>\n",
       "</table>\n",
       "</div>"
      ],
      "text/plain": [
       "users          user1  user2     user3     user4\n",
       "movies                                         \n",
       "Titanic     0.428571   0.56  0.473684  0.179487\n",
       "Martian     0.648352   0.50  0.500000  0.769231\n",
       "GOTG Vol 2  0.802198   0.90  0.736842  0.589744"
      ]
     },
     "execution_count": 60,
     "metadata": {},
     "output_type": "execute_result"
    }
   ],
   "source": [
    "pd.DataFrame(user_item_score_new, columns=df_item_feature_new['movies'], index=df_user_item['users']).T"
   ]
  },
  {
   "cell_type": "markdown",
   "metadata": {},
   "source": [
    "Urutan rekomendasi:\n",
    "* User 1: GOTG, Martian, Titanic\n",
    "* User 2: GOTG, Titanic, Martian\n",
    "* User 3: GOTG, Martian, Titanic\n",
    "* User 4: Martian,GOTG, Titanic  "
   ]
  },
  {
   "cell_type": "markdown",
   "metadata": {},
   "source": [
    "## With anime Dataset: 1 user"
   ]
  },
  {
   "cell_type": "code",
   "execution_count": null,
   "metadata": {
    "ExecuteTime": {
     "end_time": "2022-01-31T02:22:37.060780Z",
     "start_time": "2022-01-31T02:15:13.514Z"
    }
   },
   "outputs": [],
   "source": [
    "df_anime=pd.read_csv('anime.csv', usecols=['anime_id','name','rating', 'genre'])"
   ]
  },
  {
   "cell_type": "code",
   "execution_count": null,
   "metadata": {
    "ExecuteTime": {
     "end_time": "2022-01-31T02:22:37.060780Z",
     "start_time": "2022-01-31T02:15:13.516Z"
    }
   },
   "outputs": [],
   "source": [
    "# df_anime"
   ]
  },
  {
   "cell_type": "code",
   "execution_count": null,
   "metadata": {
    "ExecuteTime": {
     "end_time": "2022-01-31T02:22:37.061779Z",
     "start_time": "2022-01-31T02:15:13.518Z"
    }
   },
   "outputs": [],
   "source": [
    "# anime yang disukai user 1\n",
    "df_anime[df_anime['name'].isin(['Naruto','One Piece','Detective Conan'])] \n",
    "# anggap saja ratingnya merupakan rating dari user\n",
    "# pakai ini untuk mendapatkan user feature vector"
   ]
  },
  {
   "cell_type": "code",
   "execution_count": null,
   "metadata": {
    "ExecuteTime": {
     "end_time": "2022-01-31T02:22:37.062776Z",
     "start_time": "2022-01-31T02:15:13.522Z"
    }
   },
   "outputs": [],
   "source": [
    "# dataset untuk rekomendasi\n",
    "df_anime[~df_anime['name'].isin(['Naruto','One Piece','Detective Conan'])].drop(columns='rating')"
   ]
  },
  {
   "cell_type": "markdown",
   "metadata": {},
   "source": [
    "* dropna\n",
    "* cari user feature vector\n",
    "* cari prediksi score untuk anime yang akan direkomendasikan \n",
    "* cari 10 rekomendasi anime untuk user\n",
    "\n",
    "* coba dibuat jadi function"
   ]
  },
  {
   "cell_type": "markdown",
   "metadata": {
    "ExecuteTime": {
     "end_time": "2022-01-28T06:13:10.877055Z",
     "start_time": "2022-01-28T06:13:10.867050Z"
    }
   },
   "source": [
    "## With Anime: more than 1 users"
   ]
  },
  {
   "cell_type": "code",
   "execution_count": null,
   "metadata": {
    "ExecuteTime": {
     "end_time": "2022-01-31T02:22:37.064771Z",
     "start_time": "2022-01-31T02:15:13.526Z"
    }
   },
   "outputs": [],
   "source": [
    "df_user_item=pd.DataFrame({\n",
    "    'user':['user 1','user 2','user 3','user 4'],\n",
    "    32281:[7,8,9,8],\n",
    "    431:[9,8,9,7],\n",
    "    1698:[8,8,8,7],\n",
    "    4722:[9,7,10,8]\n",
    "})\n",
    "df_user_item"
   ]
  },
  {
   "cell_type": "markdown",
   "metadata": {},
   "source": [
    "coba rekomendasikan 10 anime untuk masing-masing user di atas\n",
    "#tidak usah dibuat function"
   ]
  },
  {
   "cell_type": "code",
   "execution_count": null,
   "metadata": {},
   "outputs": [],
   "source": []
  }
 ],
 "metadata": {
  "hide_input": false,
  "kernelspec": {
   "display_name": "Python 3",
   "language": "python",
   "name": "python3"
  },
  "language_info": {
   "codemirror_mode": {
    "name": "ipython",
    "version": 3
   },
   "file_extension": ".py",
   "mimetype": "text/x-python",
   "name": "python",
   "nbconvert_exporter": "python",
   "pygments_lexer": "ipython3",
   "version": "3.8.3"
  },
  "toc": {
   "base_numbering": 1,
   "nav_menu": {},
   "number_sections": true,
   "sideBar": true,
   "skip_h1_title": false,
   "title_cell": "Table of Contents",
   "title_sidebar": "Contents",
   "toc_cell": false,
   "toc_position": {},
   "toc_section_display": true,
   "toc_window_display": true
  }
 },
 "nbformat": 4,
 "nbformat_minor": 4
}
